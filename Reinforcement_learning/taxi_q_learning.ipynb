{
 "cells": [
  {
   "cell_type": "markdown",
   "id": "f784fa56",
   "metadata": {},
   "source": [
    "\n",
    "# Reinforcement Learning – Solving Taxi-v3 with Q-Learning\n",
    "\n",
    "This notebook uses **Gymnasium** to train a Taxi agent using **Q-learning**, and includes animated runs with a legend to explain the agent's environment.\n",
    "\n",
    "- The **Taxi agent** learns to plan its moves more efficiently over time.\n",
    "- **Before training**: random and wasteful behavior.\n",
    "- **After training**: clear, goal-driven strategy.\n",
    "\n",
    "### Environment Overview\n",
    "\n",
    "- Grid: 5×5 world\n",
    "- Objective: **Pick up** and **drop off** the passenger\n",
    "- Rewards:\n",
    "  - +20 for successful drop-off\n",
    "  - -1 per move\n",
    "  - -10 for illegal actions\n"
   ]
  },
  {
   "cell_type": "code",
   "execution_count": null,
   "id": "170c8655",
   "metadata": {},
   "outputs": [],
   "source": [
    "import gymnasium as gym\n",
    "import numpy as np\n",
    "import matplotlib.pyplot as plt\n",
    "import seaborn as sns\n",
    "import time\n",
    "from IPython.display import clear_output\n",
    "\n",
    "sns.set_theme(style=\"whitegrid\")"
   ]
  },
  {
   "cell_type": "code",
   "execution_count": null,
   "id": "a4609cde",
   "metadata": {},
   "outputs": [],
   "source": [
    "# Define\n",
    "env = gym.make(\"Taxi-v3\", render_mode=\"ansi\")\n",
    "n_states = env.observation_space.n\n",
    "n_actions = env.action_space.n\n",
    "\n",
    "q_table = np.zeros((n_states, n_actions))\n",
    "\n",
    "# Hyperparameters\n",
    "alpha = 0.7\n",
    "gamma = 0.618\n",
    "epsilon = 1.0\n",
    "epsilon_min = 0.1\n",
    "decay = 0.995\n",
    "episodes = 2000\n",
    "rewards = []"
   ]
  },
  {
   "cell_type": "code",
   "execution_count": null,
   "id": "70262eab",
   "metadata": {},
   "outputs": [],
   "source": [
    "# Training\n",
    "for ep in range(episodes):\n",
    "    state, _ = env.reset()\n",
    "    total_reward = 0\n",
    "    done = False\n",
    "\n",
    "    while not done:\n",
    "        if np.random.rand() < epsilon:\n",
    "            action = env.action_space.sample()\n",
    "        else:\n",
    "            action = np.argmax(q_table[state])\n",
    "\n",
    "        next_state, reward, terminated, truncated, _ = env.step(action)\n",
    "        done = terminated or truncated\n",
    "\n",
    "        q_table[state, action] += alpha * (reward + gamma * np.max(q_table[next_state]) - q_table[state, action])\n",
    "        state = next_state\n",
    "        total_reward += reward\n",
    "\n",
    "    epsilon = max(epsilon * decay, epsilon_min)\n",
    "    rewards.append(total_reward)\n",
    "\n",
    "print(\"Training complete.\")"
   ]
  },
  {
   "cell_type": "code",
   "execution_count": null,
   "id": "ed626e8c",
   "metadata": {},
   "outputs": [],
   "source": [
    "# Plot\n",
    "def moving_avg(data, window=100):\n",
    "    return np.convolve(data, np.ones(window)/window, mode='valid')\n",
    "\n",
    "plt.figure(figsize=(10, 4))\n",
    "plt.plot(moving_avg(rewards), label='Smoothed Reward')\n",
    "plt.axhline(y=8, color='r', linestyle='--', label='Solved Threshold')\n",
    "plt.title(\"Taxi-v3 – Reward Progression\")\n",
    "plt.xlabel(\"Episode\")\n",
    "plt.ylabel(\"Reward\")\n",
    "plt.legend()\n",
    "plt.tight_layout()\n",
    "plt.show()"
   ]
  },
  {
   "cell_type": "code",
   "execution_count": null,
   "id": "282c0186",
   "metadata": {},
   "outputs": [],
   "source": [
    "# Define functions support animation\n",
    "def print_legend():\n",
    "    print(\"\"\"\n",
    "    - R, G, B, Y: Possible passenger(blue) or destination(pink) locations\n",
    "    - T : Taxi (yellow)\n",
    "    - | : Wall (non-traversable border)\n",
    "    - Passenger is either waiting or in taxi\n",
    "    \"\"\")\n",
    "\n",
    "def animate_run(q_table=None, title=\"Run\"):\n",
    "    state, _ = env.reset()\n",
    "    done = False\n",
    "    steps = 0\n",
    "    total_reward = 0\n",
    "    frames = []\n",
    "\n",
    "    while not done and steps < 100:\n",
    "        frame = env.render()\n",
    "        frames.append(frame)\n",
    "\n",
    "        if q_table is not None:\n",
    "            action = np.argmax(q_table[state])\n",
    "        else:\n",
    "            action = env.action_space.sample()\n",
    "\n",
    "        state, reward, terminated, truncated, _ = env.step(action)\n",
    "        done = terminated or truncated\n",
    "        total_reward += reward\n",
    "        steps += 1\n",
    "\n",
    "    print(f\"{title} – Steps: {steps}, Reward: {total_reward}\\n\")\n",
    "    for i, f in enumerate(frames):\n",
    "        clear_output(wait=True)\n",
    "        print(f\"Step {i+1} – {title}\")\n",
    "        print(f)\n",
    "        print_legend()\n",
    "        time.sleep(0.3)"
   ]
  },
  {
   "cell_type": "code",
   "execution_count": null,
   "id": "efe19a4a",
   "metadata": {},
   "outputs": [],
   "source": [
    "animate_run(q_table=None, title=\"Before Training\")"
   ]
  },
  {
   "cell_type": "code",
   "execution_count": null,
   "id": "8ed85077",
   "metadata": {},
   "outputs": [],
   "source": [
    "animate_run(q_table=q_table, title=\"After Training\")\n",
    "# Attempt several times to see different possible outcomes. (Note: Q-tables might not cover every scenario.)"
   ]
  },
  {
   "cell_type": "markdown",
   "id": "6088c418",
   "metadata": {},
   "source": [
    "\n",
    "### Key Reinforcement Learning Concepts\n",
    "\n",
    "| Concept | Description |\n",
    "|--------|-------------|\n",
    "| Q-Learning | Learns value of actions in states |\n",
    "| State | Position of taxi, passenger, destination |\n",
    "| Action | Move N/S/E/W, pickup, dropoff |\n",
    "| Reward | +20 success, -1 per move, -10 illegal |\n",
    "| Policy | Best action at each state |\n",
    "\n",
    "Use this to explain how RL supports smart planning in complex environments like logistics or automation."
   ]
  }
 ],
 "metadata": {
  "language_info": {
   "name": "python"
  }
 },
 "nbformat": 4,
 "nbformat_minor": 5
}
