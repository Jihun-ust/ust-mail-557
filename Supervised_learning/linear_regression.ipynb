{
 "cells": [
  {
   "cell_type": "markdown",
   "id": "530f118d",
   "metadata": {},
   "source": [
    "# Simple Linear Regression Example\n",
    "This notebook demonstrates a **basic linear regression** using synthetic data. Linear regression models the relationship between a **single independent variable** (feature) and a **continuous target variable**."
   ]
  },
  {
   "cell_type": "code",
   "execution_count": null,
   "id": "76a2f286",
   "metadata": {},
   "outputs": [],
   "source": [
    "# Install required packages (uncomment if needed)\n",
    "# !pip install numpy matplotlib scikit-learn"
   ]
  },
  {
   "cell_type": "code",
   "execution_count": null,
   "id": "d1b3e01c",
   "metadata": {},
   "outputs": [],
   "source": [
    "import numpy as np\n",
    "import matplotlib.pyplot as plt\n",
    "from sklearn.linear_model import LinearRegression\n",
    "from sklearn.datasets import make_regression"
   ]
  },
  {
   "cell_type": "code",
   "execution_count": null,
   "id": "0734c021",
   "metadata": {},
   "outputs": [],
   "source": [
    "# Generate synthetic regression data\n",
    "X, y = make_regression(n_samples=100, n_features=1, noise=15, random_state=42)\n",
    "\n",
    "# Fit linear regression model\n",
    "model = LinearRegression()\n",
    "model.fit(X, y)\n",
    "\n",
    "# Predict\n",
    "y_pred = model.predict(X)"
   ]
  },
  {
   "cell_type": "code",
   "execution_count": null,
   "id": "63c18b4c",
   "metadata": {},
   "outputs": [],
   "source": [
    "# Visualize result\n",
    "plt.style.use('seaborn-v0_8-whitegrid')\n",
    "plt.figure(figsize=(10, 6))\n",
    "plt.scatter(X, y, color='gray', edgecolor='k', s=60, alpha=0.7, label='Data points')\n",
    "plt.plot(X, y_pred, color='blue', linewidth=2.5, label='Regression Line')\n",
    "plt.title('Linear Regression Fit', fontsize=16)\n",
    "plt.xlabel('Feature', fontsize=13)\n",
    "plt.ylabel('Target', fontsize=13)\n",
    "plt.legend()\n",
    "plt.tight_layout()\n",
    "plt.show()"
   ]
  }
 ],
 "metadata": {},
 "nbformat": 4,
 "nbformat_minor": 5
}
