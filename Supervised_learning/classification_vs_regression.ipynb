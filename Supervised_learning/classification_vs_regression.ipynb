{
 "cells": [
  {
   "cell_type": "markdown",
   "id": "eaf2eb1d",
   "metadata": {},
   "source": [
    "# Classification vs Regression (Simple Comparison)\n",
    "Comparing **classification** and **regression** using scikit-learn.\n",
    "- **Classification**: Predicts categories (e.g., 0 or 1)\n",
    "- **Regression**: Predicts continuous values (e.g., 55.3)\n",
    "\n",
    "Visualize both to understand their behavior."
   ]
  },
  {
   "cell_type": "code",
   "execution_count": null,
   "id": "f860ab43",
   "metadata": {},
   "outputs": [],
   "source": [
    "# Install required packages (uncomment if running in a fresh environment)\n",
    "# !pip install numpy matplotlib scikit-learn"
   ]
  },
  {
   "cell_type": "code",
   "execution_count": null,
   "id": "b5a8c437",
   "metadata": {},
   "outputs": [],
   "source": [
    "import numpy as np\n",
    "import matplotlib.pyplot as plt\n",
    "from sklearn.datasets import make_classification, make_regression\n",
    "from sklearn.linear_model import LogisticRegression, LinearRegression"
   ]
  },
  {
   "cell_type": "code",
   "execution_count": null,
   "id": "c37e5d61",
   "metadata": {},
   "outputs": [],
   "source": [
    "# Classification Example\n",
    "X_class, y_class = make_classification(n_samples=100, n_features=1, n_informative=1, n_redundant=0, \n",
    "                                       n_clusters_per_class=1)\n",
    "\n",
    "clf = LogisticRegression()\n",
    "clf.fit(X_class, y_class)\n",
    "\n",
    "# Regression Example\n",
    "X_reg, y_reg = make_regression(n_samples=100, n_features=1, noise=10, random_state=0)\n",
    "\n",
    "reg = LinearRegression()\n",
    "reg.fit(X_reg, y_reg)"
   ]
  },
  {
   "cell_type": "code",
   "execution_count": null,
   "id": "997117f0",
   "metadata": {},
   "outputs": [],
   "source": [
    "# Plot\n",
    "plt.style.use('seaborn-v0_8-whitegrid')\n",
    "\n",
    "# Classification Plot\n",
    "x_vals = np.linspace(X_class.min(), X_class.max(), 100).reshape(-1, 1)\n",
    "probs = clf.predict_proba(x_vals)[:, 1]\n",
    "plt.scatter(X_class, probs, c=y_class, cmap='coolwarm', edgecolor='k', s=50, alpha=0.8)\n",
    "plt.plot(x_vals, probs, color='black', linewidth=2, label='P(class=1)')\n",
    "plt.title('Classification', fontsize=14)\n",
    "plt.xlabel('Feature', fontsize=12)\n",
    "plt.ylabel('Class Probability', fontsize=12)\n",
    "plt.legend()\n",
    "\n",
    "plt.tight_layout()\n",
    "plt.show()"
   ]
  },
  {
   "cell_type": "code",
   "execution_count": null,
   "id": "f85c4f0b",
   "metadata": {},
   "outputs": [],
   "source": [
    "# Regression Plot\n",
    "plt.scatter(X_reg, y_reg, color='gray', edgecolor='k', s=50, alpha=0.7)\n",
    "y_pred = reg.predict(X_reg)\n",
    "plt.plot(X_reg, y_pred, color='blue', linewidth=2, label='Regression Line')\n",
    "plt.title('Linear Regression', fontsize=14)\n",
    "plt.xlabel('Feature', fontsize=12)\n",
    "plt.ylabel('Target', fontsize=12)\n",
    "plt.legend()\n",
    "\n",
    "plt.tight_layout()\n",
    "plt.show()"
   ]
  }
 ],
 "metadata": {
  "kernelspec": {
   "display_name": ".venv",
   "language": "python",
   "name": "python3"
  },
  "language_info": {
   "codemirror_mode": {
    "name": "ipython",
    "version": 3
   },
   "file_extension": ".py",
   "mimetype": "text/x-python",
   "name": "python",
   "nbconvert_exporter": "python",
   "pygments_lexer": "ipython3",
   "version": "3.12.7"
  }
 },
 "nbformat": 4,
 "nbformat_minor": 5
}
