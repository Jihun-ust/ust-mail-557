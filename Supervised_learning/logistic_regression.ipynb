{
 "cells": [
  {
   "cell_type": "markdown",
   "id": "be03160d",
   "metadata": {},
   "source": [
    "\n",
    "# Logistic Regression – Estimating Probabilities for Yes/No Decisions\n",
    "\n",
    "This notebook demonstrates a simple logistic regression model for binary classification. It uses synthetic data and visualizes the sigmoid probability curve and the decision boundary.\n",
    "\n",
    "---\n"
   ]
  },
  {
   "cell_type": "code",
   "execution_count": null,
   "id": "a5698bd1",
   "metadata": {},
   "outputs": [],
   "source": [
    "# Install required packages (uncomment if needed)\n",
    "# !pip install numpy matplotlib scikit-learn pandas seaborn"
   ]
  },
  {
   "cell_type": "code",
   "execution_count": null,
   "id": "c2e51928",
   "metadata": {},
   "outputs": [],
   "source": [
    "import numpy as np\n",
    "import pandas as pd\n",
    "import matplotlib.pyplot as plt\n",
    "from sklearn.datasets import make_classification\n",
    "from sklearn.linear_model import LogisticRegression"
   ]
  },
  {
   "cell_type": "code",
   "execution_count": null,
   "id": "df4c37ce",
   "metadata": {},
   "outputs": [],
   "source": [
    "# Generate binary classification data\n",
    "x_train, y_train = make_classification(n_samples=100, n_features=1, n_informative=1, n_redundant=0, \n",
    "                                       n_clusters_per_class=1)\n",
    "\n",
    "df = pd.DataFrame({'Feature': x_train.flatten(), 'Label': y_train})\n",
    "df.head()"
   ]
  },
  {
   "cell_type": "code",
   "execution_count": null,
   "id": "3d5e6607",
   "metadata": {},
   "outputs": [],
   "source": [
    "# Train Logistic Regression model\n",
    "model = LogisticRegression()\n",
    "model.fit(x_train, y_train)"
   ]
  },
  {
   "cell_type": "code",
   "execution_count": null,
   "id": "3dd3dacb",
   "metadata": {},
   "outputs": [],
   "source": [
    "# Logistic Regression Plot\n",
    "x_vals = np.linspace(x_train.min(), x_train.max(), 100).reshape(-1, 1)\n",
    "probs = model.predict_proba(x_vals)[:, 1]\n",
    "plt.scatter(x_train, probs, c=y_train, cmap='coolwarm', edgecolor='k', s=50, alpha=0.8)\n",
    "plt.plot(x_vals, probs, color='black', linewidth=2, label='P(class=1)')\n",
    "plt.title('Logistic Regression', fontsize=14)\n",
    "plt.xlabel('Feature', fontsize=12)\n",
    "plt.ylabel('Logistic Regression Probability', fontsize=12)\n",
    "plt.legend()"
   ]
  }
 ],
 "metadata": {
  "kernelspec": {
   "display_name": ".venv",
   "language": "python",
   "name": "python3"
  },
  "language_info": {
   "codemirror_mode": {
    "name": "ipython",
    "version": 3
   },
   "file_extension": ".py",
   "mimetype": "text/x-python",
   "name": "python",
   "nbconvert_exporter": "python",
   "pygments_lexer": "ipython3",
   "version": "3.12.7"
  }
 },
 "nbformat": 4,
 "nbformat_minor": 5
}
