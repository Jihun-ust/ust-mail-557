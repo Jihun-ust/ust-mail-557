{
 "cells": [
  {
   "cell_type": "markdown",
   "id": "328f2362",
   "metadata": {},
   "source": [
    "\n",
    "# Decision Tree – Binary Classification\n",
    "\n",
    "This notebook demonstrates a decision tree classifier trained on synthetic data with 4 features. We visualize the tree structure and decision performance.\n"
   ]
  },
  {
   "cell_type": "code",
   "execution_count": null,
   "id": "52ec37df",
   "metadata": {},
   "outputs": [],
   "source": [
    "import pandas as pd\n",
    "import matplotlib.pyplot as plt\n",
    "import seaborn as sns\n",
    "from sklearn.datasets import make_classification\n",
    "from sklearn.tree import DecisionTreeClassifier, plot_tree"
   ]
  },
  {
   "cell_type": "code",
   "execution_count": null,
   "id": "39c6eeaa",
   "metadata": {},
   "outputs": [],
   "source": [
    "# Generate synthetic data with 4 features\n",
    "X, y = make_classification(\n",
    "    n_samples=100, n_features=4, n_informative=3, n_redundant=1,\n",
    "    n_clusters_per_class=1, class_sep=1.5, random_state=42\n",
    ")\n",
    "df = pd.DataFrame(X, columns=[\"Feature1\", \"Feature2\", \"Feature3\", \"Feature4\"])\n",
    "df[\"Label\"] = y\n",
    "df.head()"
   ]
  },
  {
   "cell_type": "code",
   "execution_count": null,
   "id": "62384586",
   "metadata": {},
   "outputs": [],
   "source": [
    "# Train decision tree with depth=5\n",
    "model = DecisionTreeClassifier(max_depth=5, random_state=42)\n",
    "model.fit(X, y)"
   ]
  },
  {
   "cell_type": "code",
   "execution_count": null,
   "id": "602f9ec9",
   "metadata": {},
   "outputs": [],
   "source": [
    "# Plot decision tree structure\n",
    "plt.figure(figsize=(8, 6))\n",
    "plot_tree(\n",
    "    model, \n",
    "    feature_names=[\"Feature1\", \"Feature2\", \"Feature3\", \"Feature4\"],\n",
    "    class_names=[\"No\", \"Yes\"], \n",
    "    filled=True\n",
    ")\n",
    "plt.title(\"Decision Tree Structure (Depth = 5, 4 Features)\")\n",
    "plt.show()"
   ]
  },
  {
   "cell_type": "markdown",
   "id": "643ca9b0",
   "metadata": {},
   "source": [
    "FYI, Gini impurity measures the probability of incorrectly classifying a randomly chosen element from a node if it were labeled according to the distribution of labels within that node. (Gini = 1 - Σ (p_i)^2)\n",
    "\n",
    "A Gini impurity of 0 indicates perfect purity, meaning all samples in the node belong to the same class."
   ]
  }
 ],
 "metadata": {
  "language_info": {
   "name": "python"
  }
 },
 "nbformat": 4,
 "nbformat_minor": 5
}
