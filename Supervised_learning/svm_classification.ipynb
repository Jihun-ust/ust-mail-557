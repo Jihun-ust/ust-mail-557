{
 "cells": [
  {
   "cell_type": "markdown",
   "id": "c401a2c2",
   "metadata": {},
   "source": [
    "\n",
    "# Support Vector Machine (SVM) – Binary Classification with Scattered Data\n",
    "\n",
    "This notebook demonstrates an SVM classifier on more randomly scattered 2D data. We'll visualize the nonlinear decision boundary and highlight support vectors.\n"
   ]
  },
  {
   "cell_type": "code",
   "execution_count": null,
   "id": "6807ae0b",
   "metadata": {},
   "outputs": [],
   "source": [
    "import numpy as np\n",
    "import pandas as pd\n",
    "import matplotlib.pyplot as plt\n",
    "import seaborn as sns\n",
    "from sklearn.datasets import make_classification\n",
    "from sklearn.svm import SVC"
   ]
  },
  {
   "cell_type": "code",
   "execution_count": null,
   "id": "ac43934c",
   "metadata": {},
   "outputs": [],
   "source": [
    "# Generate more scattered 2D synthetic data\n",
    "X, y = make_classification(\n",
    "    n_samples=100, n_features=2, n_informative=1, n_redundant=0,\n",
    "    n_clusters_per_class=1, random_state=52\n",
    ")\n",
    "df = pd.DataFrame(X, columns=[\"Feature1\", \"Feature2\"])\n",
    "df[\"Label\"] = y\n",
    "df.head()"
   ]
  },
  {
   "cell_type": "code",
   "execution_count": null,
   "id": "3452ba84",
   "metadata": {},
   "outputs": [],
   "source": [
    "# Train SVM with RBF kernel for nonlinear boundaries\n",
    "model = SVC(kernel='linear', probability=True)\n",
    "model.fit(X, y)"
   ]
  },
  {
   "cell_type": "code",
   "execution_count": null,
   "id": "32059f08",
   "metadata": {},
   "outputs": [],
   "source": [
    "# Create mesh grid to visualize decision boundary\n",
    "x_min, x_max = X[:, 0].min() - 1, X[:, 0].max() + 1\n",
    "y_min, y_max = X[:, 1].min() - 1, X[:, 1].max() + 1\n",
    "xx, yy = np.meshgrid(np.linspace(x_min, x_max, 500),\n",
    "                     np.linspace(y_min, y_max, 500))\n",
    "Z = model.predict(np.c_[xx.ravel(), yy.ravel()])\n",
    "Z = Z.reshape(xx.shape)\n",
    "\n",
    "# Plot decision boundary and support vectors\n",
    "plt.figure(figsize=(10, 6))\n",
    "plt.contourf(xx, yy, Z, alpha=0.3, cmap='coolwarm')\n",
    "sns.scatterplot(x=X[:, 0], y=X[:, 1], hue=y, palette='coolwarm', edgecolor='k')\n",
    "plt.scatter(model.support_vectors_[:, 0], model.support_vectors_[:, 1],\n",
    "            s=100, facecolors='none', edgecolors='k', label='Support Vectors')\n",
    "plt.title(\"SVM (RBF) – Decision Boundary with Scattered Features\")\n",
    "plt.xlabel(\"Feature1\")\n",
    "plt.ylabel(\"Feature2\")\n",
    "plt.legend()\n",
    "plt.tight_layout()\n",
    "plt.show()"
   ]
  },
  {
   "cell_type": "markdown",
   "id": "2fbeb501",
   "metadata": {},
   "source": [
    "A **Support Vector Machine (SVM)** is a supervised learning algorithm primarily used for binary classification tasks. The main goal of an SVM is to find the best boundary (called a hyperplane) that separates the two classes in your data as cleanly and confidently as possible.\n",
    "\n",
    "**Support vectors** are the critical data points that lie closest to the decision boundary (hyperplane). These points are essential because:\n",
    "They define the position and orientation of the optimal separating line (or hyperplane).\n",
    "The SVM only uses these points to determine the best boundary; all other data points that are further away don’t directly affect it.\n",
    "You can think of them as the most “at risk” points—if they were moved or removed, the decision boundary would shift.\n",
    "\n",
    "An SVM tries to **maximize the margin** — the distance between the separating hyperplane and the nearest support vectors from each class. \n",
    "\n",
    "The intuition is:\n",
    "\"The more space we can leave between the classes, the better the generalization will be.\"\n",
    "\n",
    "In simple terms:\n",
    "If the boundary is too close to one class, it might misclassify new points.\n",
    "If it’s as far away as possible from both classes (i.e., maximized margin), it’s more confident and robust."
   ]
  }
 ],
 "metadata": {
  "kernelspec": {
   "display_name": ".venv",
   "language": "python",
   "name": "python3"
  },
  "language_info": {
   "codemirror_mode": {
    "name": "ipython",
    "version": 3
   },
   "file_extension": ".py",
   "mimetype": "text/x-python",
   "name": "python",
   "nbconvert_exporter": "python",
   "pygments_lexer": "ipython3",
   "version": "3.12.7"
  }
 },
 "nbformat": 4,
 "nbformat_minor": 5
}
