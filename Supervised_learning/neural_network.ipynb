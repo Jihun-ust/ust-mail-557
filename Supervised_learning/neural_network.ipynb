{
 "cells": [
  {
   "cell_type": "markdown",
   "id": "b6c2b07b",
   "metadata": {},
   "source": [
    "\n",
    "# Neural Network – Binary Classification\n",
    "\n",
    "This notebook demonstrates a simple neural network for binary classification using synthetic data. It includes:\n",
    "- Model training and prediction\n",
    "- Visualization of the neural network architecture\n",
    "- Decision boundary plot\n"
   ]
  },
  {
   "cell_type": "code",
   "execution_count": null,
   "id": "34429338",
   "metadata": {},
   "outputs": [],
   "source": [
    "# Install required packages (uncomment if running in a fresh environment)\n",
    "# !pip install numpy pandas matplotlib seaborn scikit-learn keras plotly tensorflow nbformat"
   ]
  },
  {
   "cell_type": "code",
   "execution_count": null,
   "id": "3ff0f55c",
   "metadata": {},
   "outputs": [],
   "source": [
    "import numpy as np\n",
    "import matplotlib.pyplot as plt\n",
    "import seaborn as sns\n",
    "from sklearn.datasets import make_classification\n",
    "from sklearn.model_selection import train_test_split\n",
    "from sklearn.preprocessing import StandardScaler\n",
    "from keras.models import Sequential\n",
    "from keras.layers import Dense\n",
    "import plotly.graph_objects as go"
   ]
  },
  {
   "cell_type": "code",
   "execution_count": null,
   "id": "1684cdf2",
   "metadata": {},
   "outputs": [],
   "source": [
    "# Generate 2D synthetic binary classification data\n",
    "X, y = make_classification(\n",
    "    n_samples=200, n_features=2, n_informative=2, n_redundant=0,\n",
    "    n_clusters_per_class=1, class_sep=1.5, random_state=42\n",
    ")\n",
    "X_train, X_test, y_train, y_test = train_test_split(X, y, test_size=0.3, random_state=42)\n",
    "scaler = StandardScaler()\n",
    "X_train = scaler.fit_transform(X_train)\n",
    "X_test = scaler.transform(X_test)"
   ]
  },
  {
   "cell_type": "code",
   "execution_count": null,
   "id": "515646c6",
   "metadata": {},
   "outputs": [],
   "source": [
    "# Build a simple neural network\n",
    "input_features = 2\n",
    "hidden_layer_1 = 8\n",
    "hidden_layer_2 = 4\n",
    "output_layer = 1\n",
    "model = Sequential([\n",
    "    Dense(hidden_layer_1, input_dim=input_features, activation='relu', name='Hidden_1'),\n",
    "    Dense(hidden_layer_2, activation='relu', name='Hidden_2'),\n",
    "    Dense(output_layer, activation='sigmoid', name='Output')\n",
    "])\n",
    "model.compile(optimizer='adam', loss='binary_crossentropy', metrics=['accuracy'])\n",
    "model.summary()"
   ]
  },
  {
   "cell_type": "code",
   "execution_count": null,
   "id": "cababa33",
   "metadata": {},
   "outputs": [],
   "source": [
    "# Train the model\n",
    "history = model.fit(X_train, y_train, epochs=100, verbose=0, validation_split=0.2)"
   ]
  },
  {
   "cell_type": "code",
   "execution_count": null,
   "id": "c9466eb4",
   "metadata": {},
   "outputs": [],
   "source": [
    "# Evaluate the model\n",
    "loss, accuracy = model.evaluate(X_test, y_test)\n",
    "print(f\"Test Accuracy: {accuracy:.2f}\")"
   ]
  },
  {
   "cell_type": "code",
   "execution_count": null,
   "id": "32eddb4e",
   "metadata": {},
   "outputs": [],
   "source": [
    "# Plot decision boundary\n",
    "def plot_decision_boundary(model, X, y):\n",
    "    x_min, x_max = X[:, 0].min() - 1, X[:, 0].max() + 1\n",
    "    y_min, y_max = X[:, 1].min() - 1, X[:, 1].max() + 1\n",
    "    xx, yy = np.meshgrid(np.linspace(x_min, x_max, 300),\n",
    "                         np.linspace(y_min, y_max, 300))\n",
    "    X_grid = np.c_[xx.ravel(), yy.ravel()]\n",
    "    Z = model.predict(scaler.transform(X_grid))\n",
    "    Z = Z.reshape(xx.shape)\n",
    "    \n",
    "    plt.figure(figsize=(10, 6))\n",
    "    plt.contourf(xx, yy, Z, levels=[0, 0.5, 1], alpha=0.3, cmap='coolwarm')\n",
    "    sns.scatterplot(x=X[:, 0], y=X[:, 1], hue=y, palette='coolwarm', edgecolor='k')\n",
    "    plt.title(\"Neural Network – Decision Boundary\")\n",
    "    plt.xlabel(\"Feature1\")\n",
    "    plt.ylabel(\"Feature2\")\n",
    "    plt.tight_layout()\n",
    "    plt.show()\n",
    "\n",
    "plot_decision_boundary(model, X, y)"
   ]
  },
  {
   "cell_type": "code",
   "execution_count": null,
   "id": "91b5c0b4",
   "metadata": {},
   "outputs": [],
   "source": [
    "# Plot neural network architecture\n",
    "def draw_nn(layer_sizes):\n",
    "    import matplotlib.pyplot as plt\n",
    "\n",
    "    fig, ax = plt.subplots(figsize=(10, 6))\n",
    "    ax.axis('off')\n",
    "\n",
    "    # Define custom colors for each layer\n",
    "    layer_colors = ['skyblue', 'orange', 'lightgreen', 'salmon', 'violet', 'lightgray']\n",
    "    h_spacing = 1.0 / float(len(layer_sizes) - 1)\n",
    "    node_pos = {}\n",
    "\n",
    "    for i, layer_size in enumerate(layer_sizes):\n",
    "        color = layer_colors[i % len(layer_colors)]\n",
    "        layer_height = layer_size * 0.1\n",
    "        v_start = 0.5 + layer_height / 2.0\n",
    "\n",
    "        for j in range(layer_size):\n",
    "            x = i * h_spacing\n",
    "            y = v_start - j * 0.1\n",
    "            node_pos[(i, j)] = (x, y)\n",
    "            circle = plt.Circle((x, y), 0.02, color=color, ec='black', lw=0.5, zorder=3)\n",
    "            ax.add_artist(circle)\n",
    "\n",
    "    # Draw connections\n",
    "    for i in range(len(layer_sizes) - 1):\n",
    "        for j in range(layer_sizes[i]):\n",
    "            for k in range(layer_sizes[i + 1]):\n",
    "                x1, y1 = node_pos[(i, j)]\n",
    "                x2, y2 = node_pos[(i + 1, k)]\n",
    "                ax.plot([x1, x2], [y1, y2], 'k-', lw=0.5, zorder=1)\n",
    "\n",
    "    # Layer labels\n",
    "    ax.text(0, 1.05, f\"Input Layer\", ha='center', fontsize=10)\n",
    "    for i in range(1, len(layer_sizes)-1):\n",
    "        x = i * h_spacing\n",
    "        ax.text(x, 1.05, f\"Hidden Layer {i}\", ha='center', fontsize=10)\n",
    "    ax.text(h_spacing * 3, 1.05, f\"Output Layer\", ha='center', fontsize=10)\n",
    "\n",
    "    ax.set_xlim(-0.1, 1.1)\n",
    "    ax.set_ylim(0, 1.1)\n",
    "    plt.title(\"Neural Network Architecture\", fontsize=12)\n",
    "    plt.show()\n",
    "    \n",
    "draw_nn([input_features, hidden_layer_1, hidden_layer_2, output_layer])\n"
   ]
  }
 ],
 "metadata": {
  "kernelspec": {
   "display_name": ".venv",
   "language": "python",
   "name": "python3"
  },
  "language_info": {
   "codemirror_mode": {
    "name": "ipython",
    "version": 3
   },
   "file_extension": ".py",
   "mimetype": "text/x-python",
   "name": "python",
   "nbconvert_exporter": "python",
   "pygments_lexer": "ipython3",
   "version": "3.12.7"
  }
 },
 "nbformat": 4,
 "nbformat_minor": 5
}
