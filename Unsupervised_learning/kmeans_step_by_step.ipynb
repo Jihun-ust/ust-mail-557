{
 "cells": [
  {
   "cell_type": "markdown",
   "id": "b8890a84",
   "metadata": {},
   "source": [
    "\n",
    "# Step-by-Step K-Means Clustering Visualization\n",
    "\n",
    "This notebook demonstrates the K-Means clustering process through a sequence of animated or static plots.\n",
    "\n",
    "1. Initial Random Centroids\n",
    "2. Data Points Assigned to Nearest Centroid (color-coded)\n",
    "3. Centroids Updated to New Mean Position\n",
    "4. Repeat Assignments & Updates Until Convergence\n"
   ]
  },
  {
   "cell_type": "code",
   "execution_count": null,
   "id": "08f894b9",
   "metadata": {},
   "outputs": [],
   "source": [
    "import numpy as np\n",
    "import matplotlib.pyplot as plt\n",
    "from sklearn.datasets import make_blobs"
   ]
  },
  {
   "cell_type": "code",
   "execution_count": null,
   "id": "2cfe8cd5",
   "metadata": {},
   "outputs": [],
   "source": [
    "# Generate synthetic data\n",
    "X, _ = make_blobs(n_samples=300, centers=4, cluster_std=1.5, random_state=40)\n",
    "np.random.seed(40)"
   ]
  },
  {
   "cell_type": "code",
   "execution_count": null,
   "id": "c2155203",
   "metadata": {},
   "outputs": [],
   "source": [
    "# Step 1: Initial random centroids\n",
    "k = 4\n",
    "initial_centroids = X[np.random.choice(X.shape[0], k, replace=False)]\n",
    "\n",
    "plt.figure(figsize=(8, 6))\n",
    "plt.scatter(X[:, 0], X[:, 1], s=30, color='gray', alpha=0.5)\n",
    "plt.scatter(initial_centroids[:, 0], initial_centroids[:, 1], c='red', marker='X', s=200, label='Initial Centroids')\n",
    "plt.title(\"Step 1: Randomly Initialized Centroids\")\n",
    "plt.legend()\n",
    "plt.show()"
   ]
  },
  {
   "cell_type": "code",
   "execution_count": null,
   "id": "df3def8a",
   "metadata": {},
   "outputs": [],
   "source": [
    "# Step 2: Assign points to nearest centroid\n",
    "from scipy.spatial.distance import cdist\n",
    "\n",
    "def assign_clusters(X, centroids):\n",
    "    distances = cdist(X, centroids)\n",
    "    return np.argmin(distances, axis=1)\n",
    "\n",
    "labels = assign_clusters(X, initial_centroids)\n",
    "\n",
    "plt.figure(figsize=(8, 6))\n",
    "for i in range(k):\n",
    "    plt.scatter(X[labels == i, 0], X[labels == i, 1], s=30, label=f'Cluster {i+1}')\n",
    "plt.scatter(initial_centroids[:, 0], initial_centroids[:, 1], c='black', marker='X', s=200, label='Centroids')\n",
    "plt.title(\"Step 2: Points Assigned to Nearest Centroid\")\n",
    "plt.legend()\n",
    "plt.show()"
   ]
  },
  {
   "cell_type": "code",
   "execution_count": null,
   "id": "5c7927d2",
   "metadata": {},
   "outputs": [],
   "source": [
    "# Step 3: Update centroids based on mean of points\n",
    "new_centroids = np.array([X[labels == i].mean(axis=0) for i in range(k)])\n",
    "\n",
    "plt.figure(figsize=(8, 6))\n",
    "for i in range(k):\n",
    "    plt.scatter(X[labels == i, 0], X[labels == i, 1], s=30, label=f'Cluster {i+1}')\n",
    "plt.scatter(initial_centroids[:, 0], initial_centroids[:, 1], c='black', marker='X', s=200, label='Old Centroids')\n",
    "plt.scatter(new_centroids[:, 0], new_centroids[:, 1], c='red', marker='X', s=200, label='Updated Centroids')\n",
    "plt.title(\"Step 3: Centroids Updated to Cluster Means\")\n",
    "plt.legend()\n",
    "plt.show()"
   ]
  },
  {
   "cell_type": "code",
   "execution_count": null,
   "id": "ecd9382a",
   "metadata": {},
   "outputs": [],
   "source": [
    "# Step 4: Repeat until convergence (simplified loop)\n",
    "centroids = initial_centroids.copy()\n",
    "for _ in range(10):  # run a few iterations manually\n",
    "    labels = assign_clusters(X, centroids)\n",
    "    centroids = np.array([X[labels == i].mean(axis=0) for i in range(k)])\n",
    "\n",
    "plt.figure(figsize=(8, 6))\n",
    "for i in range(k):\n",
    "    plt.scatter(X[labels == i, 0], X[labels == i, 1], s=30, label=f'Cluster {i+1}')\n",
    "plt.scatter(centroids[:, 0], centroids[:, 1], c='red', marker='X', s=200, label='Final Centroids')\n",
    "plt.title(\"Step 4: Final Clusters After Convergence\")\n",
    "plt.legend()\n",
    "plt.show()"
   ]
  }
 ],
 "metadata": {
  "kernelspec": {
   "display_name": ".venv",
   "language": "python",
   "name": "python3"
  },
  "language_info": {
   "codemirror_mode": {
    "name": "ipython",
    "version": 3
   },
   "file_extension": ".py",
   "mimetype": "text/x-python",
   "name": "python",
   "nbconvert_exporter": "python",
   "pygments_lexer": "ipython3",
   "version": "3.12.7"
  }
 },
 "nbformat": 4,
 "nbformat_minor": 5
}
