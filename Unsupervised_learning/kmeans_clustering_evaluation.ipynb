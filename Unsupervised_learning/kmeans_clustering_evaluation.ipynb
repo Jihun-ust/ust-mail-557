{
 "cells": [
  {
   "cell_type": "markdown",
   "id": "a892156e",
   "metadata": {},
   "source": [
    "\n",
    "# Evaluation of K-Means Clustering\n",
    "\n",
    "This notebook evaluates the quality of clustering results using **three commonly used metrics**:\n",
    "1. **Silhouette Score**\n",
    "2. **Inertia (Within-Cluster Sum of Squares)**\n",
    "3. **Davies–Bouldin Index**\n",
    "\n",
    "We will apply these metrics on synthetic clustered data.\n"
   ]
  },
  {
   "cell_type": "code",
   "execution_count": null,
   "id": "d88d0902",
   "metadata": {},
   "outputs": [],
   "source": [
    "import numpy as np\n",
    "import pandas as pd\n",
    "import matplotlib.pyplot as plt\n",
    "import seaborn as sns\n",
    "from sklearn.datasets import make_blobs\n",
    "from sklearn.cluster import KMeans\n",
    "from sklearn.metrics import silhouette_score, davies_bouldin_score\n",
    "\n",
    "sns.set_theme(style=\"whitegrid\")"
   ]
  },
  {
   "cell_type": "code",
   "execution_count": null,
   "id": "4ca6f94c",
   "metadata": {},
   "outputs": [],
   "source": [
    "# Generate synthetic data\n",
    "data, _ = make_blobs(n_samples=300, centers=4, cluster_std=2.0, random_state=42)\n",
    "\n",
    "# Fit KMeans\n",
    "kmeans = KMeans(n_clusters=4, random_state=42)\n",
    "kmeans.fit(data)\n",
    "labels = kmeans.labels_\n",
    "centroids = kmeans.cluster_centers_"
   ]
  },
  {
   "cell_type": "code",
   "execution_count": null,
   "id": "6d7e8192",
   "metadata": {},
   "outputs": [],
   "source": [
    "# Visualize clustering result\n",
    "plt.figure(figsize=(8, 6))\n",
    "for i in range(4):\n",
    "    plt.scatter(data[labels == i, 0], data[labels == i, 1], label=f'Cluster {i+1}')\n",
    "plt.scatter(centroids[:, 0], centroids[:, 1], c='black', marker='X', s=200, label='Centroids')\n",
    "plt.title(\"Cluster Visualization\")\n",
    "plt.xlabel(\"Feature1\")\n",
    "plt.ylabel(\"Feature2\")\n",
    "plt.legend()\n",
    "plt.show()"
   ]
  },
  {
   "cell_type": "code",
   "execution_count": null,
   "id": "b209c858",
   "metadata": {},
   "outputs": [],
   "source": [
    "# Evaluation metrics\n",
    "silhouette = silhouette_score(data, labels)\n",
    "inertia = kmeans.inertia_\n",
    "db_index = davies_bouldin_score(data, labels)\n",
    "\n",
    "print(f\"Silhouette Score: {silhouette:.3f}\")\n",
    "print(f\"Inertia (WSS): {inertia:.2f}\")\n",
    "print(f\"Davies–Bouldin Index: {db_index:.3f}\")"
   ]
  },
  {
   "cell_type": "markdown",
   "id": "2080a9d4",
   "metadata": {},
   "source": [
    "\n",
    "## Evaluation Metrics Explained\n",
    "\n",
    "### 1. **Silhouette Score**\n",
    "- **Range**: [-1, 1] (higher is better)\n",
    "- **Interpretation**: Measures how well each point fits within its cluster vs. the nearest other cluster.\n",
    "- **Ideal Use**: Best for visual validation of clustering; suitable for any distance-based clustering.\n",
    "- Think of it like: \"How confident are we that this item belongs in this group?\"\n",
    "\n",
    "### 2. **Inertia (Within-Cluster Sum of Squares)**\n",
    "- **Range**: [0, ∞] (lower is better)\n",
    "- **Interpretation**: Total distance of samples to their nearest cluster center. Measures compactness.\n",
    "- **Ideal Use**: Useful for elbow method to find the optimal number of clusters.\n",
    "- Think of it like: \"Are the people in each team sitting close together?\"\n",
    "\n",
    "### 3. **Davies–Bouldin Index**\n",
    "- **Range**: [0, ∞] (lower is better)\n",
    "- **Interpretation**: Ratio of within-cluster distance to between-cluster separation.\n",
    "- **Ideal Use**: Suitable for automated evaluation; no ground truth needed.\n",
    "- Think of it like: \"Are groups distinct and not overlapping?\"\n",
    "\n",
    "### Summary: When to Use Which?\n",
    "| Metric               | Goal                          | Best When...                          |\n",
    "|----------------------|-------------------------------|----------------------------------------|\n",
    "| **Silhouette Score** | Separation & Cohesion         | Measure overall clarity of the clusters |\n",
    "| **Inertia (WSS)**    | Cluster Compactness           | Find the best number of clusters using the \"elbow method\" |\n",
    "| **DB Index**         | Ratio of compactness/separation | Quickly check how well-separated your clusters are |\n"
   ]
  }
 ],
 "metadata": {
  "kernelspec": {
   "display_name": ".venv",
   "language": "python",
   "name": "python3"
  },
  "language_info": {
   "codemirror_mode": {
    "name": "ipython",
    "version": 3
   },
   "file_extension": ".py",
   "mimetype": "text/x-python",
   "name": "python",
   "nbconvert_exporter": "python",
   "pygments_lexer": "ipython3",
   "version": "3.12.7"
  }
 },
 "nbformat": 4,
 "nbformat_minor": 5
}
