{
 "cells": [
  {
   "cell_type": "markdown",
   "metadata": {},
   "source": [
    "# Supervised Learning vs Unsupervised Learning (Simple Comparison)\n",
    "This notebook demonstrates a simple example comparing **supervised learning** and **unsupervised learning** using scikit-learn.\n",
    "Both might produce a plot where:\n",
    "- Points are colored by group.\n",
    "- Groups are separated with boundaries or circles.\n",
    "\n",
    "**BUT**:\n",
    "- In **supervised learning**, the colors come from **known labels**.\n",
    "- In **unsupervised learning**, the model **guessed** the groups from scratch.\n"
   ]
  },
  {
   "cell_type": "code",
   "execution_count": null,
   "metadata": {},
   "outputs": [],
   "source": [
    "import numpy as np\n",
    "import matplotlib.pyplot as plt\n",
    "from sklearn.datasets import make_blobs\n",
    "from sklearn.model_selection import train_test_split\n",
    "from sklearn.linear_model import LogisticRegression\n",
    "from sklearn.cluster import KMeans\n",
    "from scipy.spatial import ConvexHull\n",
    "import seaborn as sns\n",
    "sns.set(style=\"whitegrid\")"
   ]
  },
  {
   "cell_type": "code",
   "execution_count": null,
   "metadata": {},
   "outputs": [],
   "source": [
    "# Generate dataset\n",
    "X, y = make_blobs(n_samples=90, centers=3, cluster_std=3.0, random_state=42)"
   ]
  },
  {
   "cell_type": "code",
   "execution_count": null,
   "metadata": {},
   "outputs": [],
   "source": [
    "# Train classifier (Supervised Learning)\n",
    "X_train, X_test, y_train, y_test = train_test_split(X, y, test_size=0.3, random_state=42)\n",
    "clf = LogisticRegression(multi_class='ovr', solver='lbfgs')\n",
    "clf.fit(X_train, y_train)"
   ]
  },
  {
   "cell_type": "code",
   "execution_count": null,
   "metadata": {},
   "outputs": [],
   "source": [
    "# Train clusterer (Unsupervised Learning)\n",
    "kmeans = KMeans(n_clusters=3, random_state=42)\n",
    "y_kmeans = kmeans.fit_predict(X)"
   ]
  },
  {
   "cell_type": "code",
   "execution_count": null,
   "metadata": {},
   "outputs": [],
   "source": [
    "# Plot classification vs clustering\n",
    "fig, axes = plt.subplots(1, 2, figsize=(14, 6))\n",
    "\n",
    "# Classification plot\n",
    "x_min, x_max = X[:, 0].min() - 1, X[:, 0].max() + 1\n",
    "y_min, y_max = X[:, 1].min() - 1, X[:, 1].max() + 1\n",
    "xx, yy = np.meshgrid(np.linspace(x_min, x_max, 300),\n",
    "                     np.linspace(y_min, y_max, 300))\n",
    "Z = clf.predict(np.c_[xx.ravel(), yy.ravel()]).reshape(xx.shape)\n",
    "axes[0].contourf(xx, yy, Z, alpha=0.25, cmap='Pastel1')\n",
    "markers = ['o', 's', 'X']\n",
    "colors = ['r', 'g', 'b']\n",
    "for i in range(3):\n",
    "    axes[0].scatter(X[y == i, 0], X[y == i, 1], \n",
    "                    label=f'Class {i}', marker=markers[i], color=colors[i], s=70, edgecolor='k')\n",
    "axes[0].set_title(\"Classification\\nSupervised Learning\", fontsize=14)\n",
    "axes[0].legend()\n",
    "axes[0].set_xticks([])\n",
    "axes[0].set_yticks([])\n",
    "\n",
    "# Clustering plot\n",
    "for i in range(3):\n",
    "    cluster_points = X[y_kmeans == i]\n",
    "    \n",
    "    # Scatter plot of points\n",
    "    axes[1].scatter(cluster_points[:, 0], cluster_points[:, 1],\n",
    "                    s=70, color=colors[i], alpha=0.7, edgecolor='k')\n",
    "    \n",
    "    # Fit circle around cluster\n",
    "    center = cluster_points.mean(axis=0)\n",
    "    radius = np.max(np.linalg.norm(cluster_points - center, axis=1)) * 1.1  # slight padding\n",
    "    circle = plt.Circle(center, radius, color='blue', fill=False, linestyle='--', linewidth=2, alpha=0.6)\n",
    "    axes[1].add_patch(circle)\n",
    "\n",
    "axes[1].set_title(\"Clustering\\nUnsupervised Learning\", fontsize=14)\n",
    "axes[1].set_xticks([])\n",
    "axes[1].set_yticks([])\n",
    "\n",
    "plt.tight_layout()\n",
    "plt.show()"
   ]
  },
  {
   "cell_type": "markdown",
   "metadata": {},
   "source": [
    "## Supervised vs. Unsupervised. Visually They Look Similar **BUT**:\n",
    "- In **supervised learning**, the colors come from **known labels**.\n",
    "- In **unsupervised learning**, the model **guessed** the groups from scratch.\n",
    "\n",
    "### Supervised Learning\n",
    "> “You already know what the categories are. You’re teaching the model to recognize them.”\n",
    "- You **have labeled data** (examples with correct answers).\n",
    "- The goal is to **assign known categories** to new data.\n",
    "- It’s like teaching with a **cheat sheet**.\n",
    "\n",
    "### Unsupervised Learning\n",
    "> “You have no idea what the categories are. The model tries to discover them on its own.”\n",
    "- You **don’t have labeled data**.\n",
    "- The goal is to **discover structure** or **groupings**.\n",
    "- It’s like organizing without a cheat sheet. Just using statistical cues.\n",
    "\n",
    "### Summary\n",
    "| Concept            | Summary                                      |\n",
    "|--------------------|----------------------------------------------|\n",
    "| **Supervised learning** | “Tell me which known category this belongs to.” |\n",
    "| **Unsupervised learning**     | \"Help me find natural groupings in this mess.” |\n"
   ]
  }
 ],
 "metadata": {
  "kernelspec": {
   "display_name": ".venv",
   "language": "python",
   "name": "python3"
  },
  "language_info": {
   "codemirror_mode": {
    "name": "ipython",
    "version": 3
   },
   "file_extension": ".py",
   "mimetype": "text/x-python",
   "name": "python",
   "nbconvert_exporter": "python",
   "pygments_lexer": "ipython3",
   "version": "3.12.7"
  }
 },
 "nbformat": 4,
 "nbformat_minor": 2
}
