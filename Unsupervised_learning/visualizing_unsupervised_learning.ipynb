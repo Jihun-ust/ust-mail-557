{
 "cells": [
  {
   "cell_type": "markdown",
   "id": "417c298b",
   "metadata": {},
   "source": [
    "\n",
    "# Visualizing Unsupervised Learning\n",
    "\n",
    "Unsupervised learning results can be hard to explain without visual tools. **Visualization helps both technical teams and decision-makers** make sense of discovered patterns and relationships in data.\n",
    "\n",
    "This notebook demonstrates **common visualization techniques** for unsupervised learning models like clustering and dimensionality reduction.\n",
    "\n",
    "- **Scatter Plot** (PCA or clustering)\n",
    "- **Heatmap** (correlation or group structure)\n",
    "- **Silhouette Plot** (cluster quality)\n",
    "- **t-SNE / UMAP** (natural high-dimensional groupings)\n"
   ]
  },
  {
   "cell_type": "code",
   "execution_count": null,
   "id": "20f1bb3b",
   "metadata": {},
   "outputs": [],
   "source": [
    "# Install required packages (uncomment if needed)\n",
    "# !pip install numpy pandas matplotlib seaborn scikit-learn umap-learn"
   ]
  },
  {
   "cell_type": "code",
   "execution_count": null,
   "id": "6ff386c8",
   "metadata": {},
   "outputs": [],
   "source": [
    "import numpy as np\n",
    "import pandas as pd\n",
    "import matplotlib.pyplot as plt\n",
    "import seaborn as sns\n",
    "from sklearn.datasets import make_blobs\n",
    "from sklearn.decomposition import PCA\n",
    "from sklearn.cluster import KMeans\n",
    "from sklearn.metrics import silhouette_samples, silhouette_score\n",
    "from sklearn.preprocessing import StandardScaler\n",
    "from sklearn.manifold import TSNE\n",
    "import umap.umap_ as umap\n",
    "\n",
    "sns.set_theme(style=\"whitegrid\")"
   ]
  },
  {
   "cell_type": "code",
   "execution_count": null,
   "id": "8df84205",
   "metadata": {},
   "outputs": [],
   "source": [
    "# Create synthetic 2D data with clusters\n",
    "X, y = make_blobs(n_samples=300, centers=4, cluster_std=1.0, random_state=42)\n",
    "X = StandardScaler().fit_transform(X)\n",
    "\n",
    "# Fit KMeans\n",
    "kmeans = KMeans(n_clusters=4, random_state=42)\n",
    "labels = kmeans.fit_predict(X)"
   ]
  },
  {
   "cell_type": "code",
   "execution_count": null,
   "id": "b9e2d4f6",
   "metadata": {},
   "outputs": [],
   "source": [
    "# Scatter plot of clustering result\n",
    "plt.figure(figsize=(8, 6))\n",
    "sns.scatterplot(x=X[:, 0], y=X[:, 1], hue=labels, palette='tab10', s=40)\n",
    "plt.title(\"Scatter Plot – Cluster Visualization (K-Means)\")\n",
    "plt.xlabel(\"Feature 1\")\n",
    "plt.ylabel(\"Feature 2\")\n",
    "plt.legend(title=\"Cluster\")\n",
    "plt.tight_layout()\n",
    "plt.show()"
   ]
  },
  {
   "cell_type": "code",
   "execution_count": null,
   "id": "02e51fb4",
   "metadata": {},
   "outputs": [],
   "source": [
    "# Heatmap of cluster centroids\n",
    "centroids_df = pd.DataFrame(kmeans.cluster_centers_, columns=[\"Feature1\", \"Feature2\"])\n",
    "cmap = sns.diverging_palette(256, 256, n=256, as_cmap=True)\n",
    "plt.figure(figsize=(6, 4))\n",
    "sns.heatmap(centroids_df.T, annot=True, cmap=cmap, center=0, cbar_kws={'label': 'Centroid Value'})\n",
    "plt.title(\"Heatmap – Cluster Centroids by Feature\")\n",
    "plt.xlabel(\"Cluster\")\n",
    "plt.ylabel(\"Feature\")\n",
    "plt.tight_layout()\n",
    "plt.show()"
   ]
  },
  {
   "cell_type": "code",
   "execution_count": null,
   "id": "c56ae188",
   "metadata": {},
   "outputs": [],
   "source": [
    "# Silhouette Plot\n",
    "silhouette_vals = silhouette_samples(X, labels)\n",
    "silhouette_avg = silhouette_score(X, labels)\n",
    "\n",
    "plt.figure(figsize=(8, 6))\n",
    "y_lower = 10\n",
    "for i in range(4):\n",
    "    ith_vals = silhouette_vals[labels == i]\n",
    "    ith_vals.sort()\n",
    "    size = ith_vals.shape[0]\n",
    "    y_upper = y_lower + size\n",
    "    plt.fill_betweenx(np.arange(y_lower, y_upper), 0, ith_vals, label=f'Cluster {i+1}')\n",
    "    y_lower = y_upper + 10\n",
    "\n",
    "plt.axvline(x=silhouette_avg, color=\"red\", linestyle=\"--\", label=\"Average Silhouette\")\n",
    "plt.title(\"📏 Silhouette Plot – Cluster Cohesion and Separation\")\n",
    "plt.xlabel(\"Silhouette Coefficient\")\n",
    "plt.ylabel(\"Clustered Samples\")\n",
    "plt.legend()\n",
    "plt.tight_layout()\n",
    "plt.show()"
   ]
  },
  {
   "cell_type": "code",
   "execution_count": null,
   "id": "c400df5f",
   "metadata": {},
   "outputs": [],
   "source": [
    "# t-SNE and UMAP projection\n",
    "X_tsne = TSNE(n_components=2, random_state=42).fit_transform(X)\n",
    "X_umap = umap.UMAP(n_components=2, random_state=42).fit_transform(X)\n",
    "\n",
    "fig, axes = plt.subplots(1, 2, figsize=(16, 6))\n",
    "\n",
    "sns.scatterplot(x=X_tsne[:, 0], y=X_tsne[:, 1], hue=labels, palette='tab10', s=40, ax=axes[0])\n",
    "axes[0].set_title(\"t-SNE Projection\")\n",
    "\n",
    "sns.scatterplot(x=X_umap[:, 0], y=X_umap[:, 1], hue=labels, palette='tab10', s=40, ax=axes[1])\n",
    "axes[1].set_title(\"UMAP Projection\")\n",
    "\n",
    "for ax in axes:\n",
    "    ax.set_xlabel(\"Component 1\")\n",
    "    ax.set_ylabel(\"Component 2\")\n",
    "\n",
    "plt.suptitle(\"🌐 t-SNE & UMAP – Nonlinear Dimensionality Reduction\", fontsize=14)\n",
    "plt.tight_layout()\n",
    "plt.show()"
   ]
  },
  {
   "cell_type": "markdown",
   "id": "9395f88a",
   "metadata": {},
   "source": [
    "\n",
    "## Summary: Why Visualization Matters\n",
    "\n",
    "Unsupervised learning doesn't produce labels or accuracy scores, so **visualizing the outcome is essential** to evaluate and communicate insights.\n",
    "\n",
    "| Technique         | Use Case |\n",
    "|------------------|----------|\n",
    "| **Scatter Plot** | Quick overview of clusters or PCA projections |\n",
    "| **Heatmap**       | Compare features across clusters or groups |\n",
    "| **Silhouette Plot** | Evaluate how tightly and distinctly clusters are formed |\n",
    "| **t-SNE / UMAP**  | Explore complex patterns in high-dimensional data |\n",
    "\n",
    "> Use multiple visualizations together to understand structure, validate assumptions, and communicate clearly to stakeholders.\n"
   ]
  }
 ],
 "metadata": {
  "kernelspec": {
   "display_name": ".venv",
   "language": "python",
   "name": "python3"
  },
  "language_info": {
   "codemirror_mode": {
    "name": "ipython",
    "version": 3
   },
   "file_extension": ".py",
   "mimetype": "text/x-python",
   "name": "python",
   "nbconvert_exporter": "python",
   "pygments_lexer": "ipython3",
   "version": "3.12.7"
  }
 },
 "nbformat": 4,
 "nbformat_minor": 5
}
