{
 "cells": [
  {
   "cell_type": "markdown",
   "id": "7e815bbf",
   "metadata": {},
   "source": [
    "\n",
    "# K-Means Clustering – Unsupervised Learning Example\n",
    "\n",
    "This notebook demonstrates **K-Means clustering**, one of the most popular **unsupervised learning** techniques.\n",
    "\n",
    "We will:\n",
    "- Generate synthetic unlabeled data\n",
    "- Apply K-Means clustering using `scikit-learn`\n",
    "- Visualize the discovered clusters\n"
   ]
  },
  {
   "cell_type": "code",
   "execution_count": null,
   "id": "af4add55",
   "metadata": {},
   "outputs": [],
   "source": [
    "import pandas as pd\n",
    "import matplotlib.pyplot as plt\n",
    "import seaborn as sns\n",
    "from sklearn.datasets import make_blobs\n",
    "from sklearn.cluster import KMeans\n",
    "\n",
    "sns.set_theme(style=\"whitegrid\")"
   ]
  },
  {
   "cell_type": "code",
   "execution_count": null,
   "id": "3db387b8",
   "metadata": {},
   "outputs": [],
   "source": [
    "# Generate 2D synthetic data without labels (unsupervised)\n",
    "data, _ = make_blobs(n_samples=300, centers=4, cluster_std=2.0, random_state=42)\n",
    "df = pd.DataFrame(data, columns=['Feature1', 'Feature2'])\n",
    "df.head()"
   ]
  },
  {
   "cell_type": "code",
   "execution_count": null,
   "id": "edf594af",
   "metadata": {},
   "outputs": [],
   "source": [
    "# Apply KMeans clustering\n",
    "model = KMeans(n_clusters=4, random_state=42)\n",
    "model.fit(data)\n",
    "labels = model.labels_\n",
    "centroids = model.cluster_centers_"
   ]
  },
  {
   "cell_type": "code",
   "execution_count": null,
   "id": "8773c672",
   "metadata": {},
   "outputs": [],
   "source": [
    "# Visualize clustering results\n",
    "plt.figure(figsize=(8, 6))\n",
    "for i in range(4):\n",
    "    plt.scatter(data[labels == i, 0], data[labels == i, 1], label=f'Cluster {i+1}')\n",
    "plt.scatter(centroids[:, 0], centroids[:, 1], c='black', marker='X', s=200, label='Centroids')\n",
    "plt.title(\"K-Means Clustering (Unsupervised Learning)\")\n",
    "plt.xlabel(\"Feature1\")\n",
    "plt.ylabel(\"Feature2\")\n",
    "plt.legend()\n",
    "plt.tight_layout()\n",
    "plt.show()"
   ]
  }
 ],
 "metadata": {
  "kernelspec": {
   "display_name": ".venv",
   "language": "python",
   "name": "python3"
  },
  "language_info": {
   "codemirror_mode": {
    "name": "ipython",
    "version": 3
   },
   "file_extension": ".py",
   "mimetype": "text/x-python",
   "name": "python",
   "nbconvert_exporter": "python",
   "pygments_lexer": "ipython3",
   "version": "3.12.7"
  }
 },
 "nbformat": 4,
 "nbformat_minor": 5
}
