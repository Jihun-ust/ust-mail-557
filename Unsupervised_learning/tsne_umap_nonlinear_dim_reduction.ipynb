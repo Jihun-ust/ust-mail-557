{
 "cells": [
  {
   "cell_type": "markdown",
   "id": "37181c0f",
   "metadata": {},
   "source": [
    "# t-SNE and UMAP – Nonlinear Dimensionality Reduction\n",
    "\n",
    "This notebook demonstrates two powerful techniques for reducing the dimensionality of complex datasets:\n",
    "- **t-SNE (t-distributed Stochastic Neighbor Embedding)**\n",
    "- **UMAP (Uniform Manifold Approximation and Projection)**\n",
    "- Visualizing **high-dimensional data** in 2D or 3D\n",
    "- Preserving **local neighborhood structure**\n",
    "- Exploring clustering or hidden patterns"
   ]
  },
  {
   "cell_type": "code",
   "execution_count": null,
   "id": "681241bd",
   "metadata": {},
   "outputs": [],
   "source": [
    "# Install required packages (uncomment if needed)\n",
    "# !pip install umap-learn"
   ]
  },
  {
   "cell_type": "code",
   "execution_count": null,
   "id": "00087a72",
   "metadata": {},
   "outputs": [],
   "source": [
    "import matplotlib.pyplot as plt\n",
    "import seaborn as sns\n",
    "from sklearn.datasets import load_digits\n",
    "from sklearn.manifold import TSNE\n",
    "import umap.umap_ as umap\n",
    "\n",
    "sns.set_theme(style=\"whitegrid\")"
   ]
  },
  {
   "cell_type": "code",
   "execution_count": null,
   "id": "ddaf084b",
   "metadata": {},
   "outputs": [],
   "source": [
    "# Load 64-dimensional digit images (8x8)\n",
    "digits = load_digits()\n",
    "X = digits.data\n",
    "y = digits.target\n",
    "\n",
    "print(f\"Data shape: {X.shape}\")"
   ]
  },
  {
   "cell_type": "code",
   "execution_count": null,
   "id": "aa92995e",
   "metadata": {},
   "outputs": [],
   "source": [
    "# t-SNE (may take a few seconds)\n",
    "tsne = TSNE(n_components=2, random_state=42, perplexity=30)\n",
    "X_tsne = tsne.fit_transform(X)\n",
    "\n",
    "# Plot\n",
    "plt.figure(figsize=(8, 6))\n",
    "sns.scatterplot(x=X_tsne[:, 0], y=X_tsne[:, 1], hue=y, palette='tab10', legend='full', s=40)\n",
    "plt.title(\"t-SNE Projection of Digit Images\")\n",
    "plt.xlabel(\"t-SNE Component 1\")\n",
    "plt.ylabel(\"t-SNE Component 2\")\n",
    "plt.legend(title=\"Digit\")\n",
    "plt.tight_layout()\n",
    "plt.show()"
   ]
  },
  {
   "cell_type": "code",
   "execution_count": null,
   "id": "2570d80b",
   "metadata": {},
   "outputs": [],
   "source": [
    "# UMAP\n",
    "umap_model = umap.UMAP(n_components=2, random_state=42)\n",
    "X_umap = umap_model.fit_transform(X)\n",
    "\n",
    "# Plot\n",
    "plt.figure(figsize=(8, 6))\n",
    "sns.scatterplot(x=X_umap[:, 0], y=X_umap[:, 1], hue=y, palette='tab10', legend='full', s=40)\n",
    "plt.title(\"UMAP Projection of Digit Images\")\n",
    "plt.xlabel(\"UMAP Component 1\")\n",
    "plt.ylabel(\"UMAP Component 2\")\n",
    "plt.legend(title=\"Digit\")\n",
    "plt.tight_layout()\n",
    "plt.show()"
   ]
  },
  {
   "cell_type": "markdown",
   "id": "8f37c9b1",
   "metadata": {},
   "source": [
    "\n",
    "## When to Use t-SNE or UMAP?\n",
    "\n",
    "| Technique | Strengths | Use When... |\n",
    "|-----------|-----------|-------------|\n",
    "| **t-SNE** | Great at preserving **local relationships** (who's near whom) | You want detailed cluster shape, but not global layout |\n",
    "| **UMAP**  | Preserves both **local and global structure**, faster & scalable | You want speed, better large-scale structure, or input to clustering |\n",
    "\n",
    "### Use Cases:\n",
    "- Visualizing embeddings from NLP or image models\n",
    "- Understanding structure in biological or customer behavior data\n",
    "- Preprocessing for clustering\n",
    "\n",
    "> Both methods are **unsupervised** and work best when the dataset has structure not easily captured by linear methods like PCA.\n"
   ]
  }
 ],
 "metadata": {
  "kernelspec": {
   "display_name": ".venv",
   "language": "python",
   "name": "python3"
  },
  "language_info": {
   "codemirror_mode": {
    "name": "ipython",
    "version": 3
   },
   "file_extension": ".py",
   "mimetype": "text/x-python",
   "name": "python",
   "nbconvert_exporter": "python",
   "pygments_lexer": "ipython3",
   "version": "3.12.7"
  }
 },
 "nbformat": 4,
 "nbformat_minor": 5
}
