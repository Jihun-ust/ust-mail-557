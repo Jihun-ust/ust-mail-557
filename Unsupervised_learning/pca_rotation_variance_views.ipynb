{
 "cells": [
  {
   "cell_type": "markdown",
   "id": "4d548de6",
   "metadata": {},
   "source": [
    "\n",
    "# PCA Step-by-Step – Visualizing Variance via Rotation\n",
    "\n",
    "This notebook illustrates **how PCA discovers the directions of maximum variance** by rotating views of the data in 3D. This helps us intuitively understand what PCA is doing when it selects principal components.\n",
    "\n",
    "1. Generate 3D synthetic data\n",
    "2. Visualize it from multiple angles\n",
    "3. Apply PCA to identify the directions of maximum variance\n",
    "4. Project it onto lower dimensions\n"
   ]
  },
  {
   "cell_type": "code",
   "execution_count": null,
   "id": "845bd8dc",
   "metadata": {},
   "outputs": [],
   "source": [
    "import matplotlib.pyplot as plt\n",
    "from sklearn.datasets import make_classification\n",
    "from sklearn.decomposition import PCA\n",
    "from sklearn.preprocessing import StandardScaler\n",
    "\n",
    "import seaborn as sns\n",
    "sns.set_theme(style=\"whitegrid\")"
   ]
  },
  {
   "cell_type": "code",
   "execution_count": null,
   "id": "fea40a04",
   "metadata": {},
   "outputs": [],
   "source": [
    "# Create 3D data\n",
    "X, _ = make_classification(\n",
    "    n_samples=300,\n",
    "    n_features=3,\n",
    "    n_informative=3,\n",
    "    n_redundant=0,\n",
    "    n_clusters_per_class=1,\n",
    "    random_state=32\n",
    ")\n",
    "\n",
    "# Standardize\n",
    "scaler = StandardScaler()\n",
    "X_scaled = scaler.fit_transform(X)"
   ]
  },
  {
   "cell_type": "code",
   "execution_count": null,
   "id": "3b4fd93c",
   "metadata": {},
   "outputs": [],
   "source": [
    "# Plot from multiple angles\n",
    "fig = plt.figure(figsize=(18, 5))\n",
    "\n",
    "for i, elev in enumerate([10, 30, 60]):\n",
    "    ax = fig.add_subplot(1, 3, i+1, projection='3d')\n",
    "    ax.scatter(X_scaled[:, 0], X_scaled[:, 1], X_scaled[:, 2], alpha=0.6, c='steelblue')\n",
    "    ax.view_init(elev=elev, azim=45)\n",
    "    ax.set_title(f'View {i+1}: Elevation {elev}°')\n",
    "    ax.set_xlabel(\"Feature 1\")\n",
    "    ax.set_ylabel(\"Feature 2\")\n",
    "    ax.set_zlabel(\"Feature 3\")\n",
    "\n",
    "plt.suptitle(\"Rotating 3D Views – Looking for Maximum Variance\", fontsize=14)\n",
    "plt.tight_layout()\n",
    "plt.show()"
   ]
  },
  {
   "cell_type": "code",
   "execution_count": null,
   "id": "f7e0a497",
   "metadata": {},
   "outputs": [],
   "source": [
    "# PCA\n",
    "pca = PCA(n_components=2)\n",
    "X_pca = pca.fit_transform(X_scaled)\n",
    "\n",
    "print(\"Explained Variance Ratio (Importance of Each Principal Component):\")\n",
    "for i, ratio in enumerate(pca.explained_variance_ratio_):\n",
    "    print(f\"PC{i+1}: {ratio:.2%}\")"
   ]
  },
  {
   "cell_type": "code",
   "execution_count": null,
   "id": "7c18df6b",
   "metadata": {},
   "outputs": [],
   "source": [
    "# Plot\n",
    "plt.figure(figsize=(8, 6))\n",
    "plt.scatter(X_pca[:, 0], X_pca[:, 1], alpha=0.7, color='indianred')\n",
    "plt.xlabel('Principal Component 1')\n",
    "plt.ylabel('Principal Component 2')\n",
    "plt.title('PCA Projection onto 2D Space')\n",
    "plt.grid(True)\n",
    "plt.tight_layout()\n",
    "plt.show()"
   ]
  },
  {
   "cell_type": "markdown",
   "id": "6fb3f5c9",
   "metadata": {},
   "source": [
    "- By rotating the original 3D data, we could **visually inspect the structure** and identify where variance might be most significant.\n",
    "- PCA does this computationally: it finds the **exact axes** where the variance is greatest (PC1, PC2, ...).\n",
    "- These new axes form a **new coordinate system** where we can reduce dimensions with **minimal information loss**.\n",
    "\n",
    "## Key Takeaways\n",
    "\n",
    "| Step | What Happens |\n",
    "|------|-------------------------------|\n",
    "| Rotate views | See where data is most spread out |\n",
    "| PCA fit | Finds axes of max variance mathematically |\n",
    "| Project | Keep the axes that explain most of the data (e.g., PC1, PC2) |\n",
    "\n",
    "This approach is especially useful for:\n",
    "- Visualizing high-dimensional data\n",
    "- Reducing noise or redundancy\n",
    "- Preparing data for clustering or classification"
   ]
  }
 ],
 "metadata": {
  "kernelspec": {
   "display_name": ".venv",
   "language": "python",
   "name": "python3"
  },
  "language_info": {
   "codemirror_mode": {
    "name": "ipython",
    "version": 3
   },
   "file_extension": ".py",
   "mimetype": "text/x-python",
   "name": "python",
   "nbconvert_exporter": "python",
   "pygments_lexer": "ipython3",
   "version": "3.12.7"
  }
 },
 "nbformat": 4,
 "nbformat_minor": 5
}
