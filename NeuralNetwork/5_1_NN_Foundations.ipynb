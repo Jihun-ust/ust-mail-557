{
 "cells": [
  {
   "cell_type": "markdown",
   "metadata": {},
   "source": [
    "# Neural Network for Purchase Propensity\n",
    "\n",
    "1. Generate **synthetic data** to simulate user behavior.\n",
    "2. Train two models:\n",
    "   - **Baseline Logistic Regression** (simple, interpretable)\n",
    "   - **Neural Network (MLP)** (more complex, flexible)\n",
    "3. Compare performance using clear metrics and visualizations.\n",
    "4. Highlight **what leaders should focus on** in evaluation and decision‑making."
   ]
  },
  {
   "cell_type": "code",
   "execution_count": null,
   "metadata": {},
   "outputs": [],
   "source": [
    "# Setup\n",
    "import numpy as np, pandas as pd\n",
    "from numpy.random import default_rng\n",
    "import matplotlib.pyplot as plt, warnings\n",
    "from sklearn.model_selection import train_test_split\n",
    "from sklearn.preprocessing import StandardScaler, OneHotEncoder\n",
    "from sklearn.compose import ColumnTransformer\n",
    "from sklearn.pipeline import Pipeline\n",
    "from sklearn.linear_model import LogisticRegression\n",
    "from sklearn.neural_network import MLPClassifier\n",
    "from sklearn.metrics import roc_auc_score, average_precision_score, brier_score_loss, roc_curve, precision_recall_curve\n",
    "from sklearn.calibration import calibration_curve\n",
    "\n",
    "rng = default_rng(0)\n",
    "warnings.filterwarnings(\"ignore\")\n"
   ]
  },
  {
   "cell_type": "markdown",
   "metadata": {},
   "source": [
    "## Generate synthetic data\n",
    "We simulate visitor behavior (sessions, pages, cart actions, channel, device, etc.) and whether they purchase in the next 48h (binary target)."
   ]
  },
  {
   "cell_type": "code",
   "execution_count": null,
   "metadata": {},
   "outputs": [],
   "source": [
    "N = 1000\n",
    "sessions = rng.poisson(2, N)\n",
    "pages = rng.poisson(5, N)\n",
    "cart_adds = rng.poisson(0.3*sessions)\n",
    "device = rng.choice(['mobile','desktop'], N, p=[0.7,0.3])\n",
    "country = rng.choice(['US','CA','GB'], N, p=[0.7,0.2,0.1])\n",
    "channel = rng.choice(['direct','search','social','email'], N)\n",
    "\n",
    "# Latent score for purchase probability\n",
    "x = -3 + 0.2*pages + 0.4*cart_adds + (channel=='email')*0.5 + (device=='desktop')*0.2\n",
    "p = 1/(1+np.exp(-x))\n",
    "y = rng.binomial(1, p)\n",
    "\n",
    "df = pd.DataFrame({\n",
    "    'sessions': sessions,\n",
    "    'pages': pages,\n",
    "    'cart_adds': cart_adds,\n",
    "    'device': device,\n",
    "    'country': country,\n",
    "    'channel': channel,\n",
    "    'purchase_next_48h': y\n",
    "})\n",
    "df.head()"
   ]
  },
  {
   "cell_type": "markdown",
   "metadata": {},
   "source": [
    "## Train/Test split\n",
    "We hold out 20% of data for final evaluation."
   ]
  },
  {
   "cell_type": "code",
   "execution_count": null,
   "metadata": {},
   "outputs": [],
   "source": [
    "X = df.drop(columns=['purchase_next_48h'])\n",
    "y = df['purchase_next_48h']\n",
    "X_train, X_test, y_train, y_test = train_test_split(X, y, test_size=0.2, random_state=0, stratify=y)\n",
    "\n",
    "num_cols = ['sessions','pages','cart_adds']\n",
    "cat_cols = ['device','country','channel']\n",
    "\n",
    "pre = ColumnTransformer([\n",
    "    ('num', StandardScaler(), num_cols),\n",
    "    ('cat', OneHotEncoder(handle_unknown='ignore'), cat_cols)\n",
    "])"
   ]
  },
  {
   "cell_type": "markdown",
   "metadata": {},
   "source": [
    "## Baseline - Logistic Regression\n",
    "Simple, interpretable, runs fast."
   ]
  },
  {
   "cell_type": "code",
   "execution_count": null,
   "metadata": {},
   "outputs": [],
   "source": [
    "logreg = Pipeline([\n",
    "    ('pre', pre),\n",
    "    ('clf', LogisticRegression(max_iter=300))\n",
    "])\n",
    "logreg.fit(X_train, y_train)\n",
    "probs_lr = logreg.predict_proba(X_test)[:,1]\n",
    "\n",
    "auc_lr = roc_auc_score(y_test, probs_lr)\n",
    "pr_lr = average_precision_score(y_test, probs_lr)\n",
    "brier_lr = brier_score_loss(y_test, probs_lr)\n",
    "\n",
    "result = pd.DataFrame({\n",
    "    \"LR result\":{\n",
    "        \"roc_auc_score\": auc_lr,\n",
    "        \"average_precision_score\": pr_lr,\n",
    "        \"brier_score_loss\": brier_lr\n",
    "    }\n",
    "})\n",
    "\n",
    "display(result.round(3))"
   ]
  },
  {
   "cell_type": "markdown",
   "metadata": {},
   "source": [
    "## Neural Network (MLP)\n",
    "A simple feedforward network (multi‑layer perceptron). More flexible but less interpretable."
   ]
  },
  {
   "cell_type": "code",
   "execution_count": null,
   "metadata": {},
   "outputs": [],
   "source": [
    "mlp = Pipeline([\n",
    "    ('pre', pre),\n",
    "    ('clf', MLPClassifier(\n",
    "        hidden_layer_sizes=(64, 32, 16),   # 3 layers, more expressive\n",
    "        activation='relu',                 # modern default\n",
    "        solver='adam',                     # adaptive optimizer\n",
    "        alpha=0.1,                         # L2 regularization\n",
    "        learning_rate='adaptive',          # slows down as it converges\n",
    "        max_iter=3000,                     # allow more epochs\n",
    "        early_stopping=True,               # stops if no val improvement\n",
    "        n_iter_no_change=50,               # patience for early stopping\n",
    "        random_state=0\n",
    "    ))\n",
    "])\n",
    "mlp.fit(X_train, y_train)\n",
    "probs_nn = mlp.predict_proba(X_test)[:,1]\n",
    "\n",
    "auc_nn = roc_auc_score(y_test, probs_nn)\n",
    "pr_nn = average_precision_score(y_test, probs_nn)\n",
    "brier_nn = brier_score_loss(y_test, probs_nn)\n",
    "\n",
    "result = pd.DataFrame({\n",
    "    \"NN result\":{\n",
    "        \"roc_auc_score\": auc_nn,\n",
    "        \"average_precision_score\": pr_nn,\n",
    "        \"brier_score_loss\": brier_nn\n",
    "    }\n",
    "})\n",
    "\n",
    "display(result.round(3))\n",
    "\n",
    "# Training Loss curve\n",
    "clf = mlp.named_steps[\"clf\"]\n",
    "plt.figure(figsize=(6,4))\n",
    "plt.plot(clf.loss_curve_, marker=\"o\")\n",
    "plt.xlabel(\"epoch\"); plt.ylabel(\"loss\")\n",
    "plt.title(\"MLP training loss curve\")\n",
    "plt.tight_layout(); plt.show()"
   ]
  },
  {
   "cell_type": "markdown",
   "metadata": {},
   "source": [
    "## Baseline vs. Neural Net\n",
    "- **ROC‑AUC** (ranking quality): How well the model ranks likely buyers above non-buyers. (higher=better)\n",
    "- **PR‑AUC** (precision‑recall for rare positives): How well the model finds true buyers among the top predictions when buyers are rare. (higher=better)\n",
    "- **Brier score** (calibration): How well the predicted probabilities match reality (calibration). (lower=better)"
   ]
  },
  {
   "cell_type": "code",
   "execution_count": null,
   "metadata": {},
   "outputs": [],
   "source": [
    "results = pd.DataFrame({\n",
    "    \"Logistic Regression\": {\n",
    "        \"ROC-AUC (higher=better)\": auc_lr,\n",
    "        \"PR-AUC (higher=better)\": pr_lr,\n",
    "        \"Brier (lower=better)\": brier_lr\n",
    "    },\n",
    "    \"Neural Net\": {\n",
    "        \"ROC-AUC (higher=better)\": auc_nn,\n",
    "        \"PR-AUC (higher=better)\": pr_nn,\n",
    "        \"Brier (lower=better)\": brier_nn\n",
    "    }\n",
    "})\n",
    "\n",
    "display(results.T.round(3))\n",
    "\n",
    "# ROC curves\n",
    "fpr_lr, tpr_lr, _ = roc_curve(y_test, probs_lr)\n",
    "fpr_nn, tpr_nn, _ = roc_curve(y_test, probs_nn)\n",
    "\n",
    "plt.figure(figsize=(6,5))\n",
    "plt.plot(fpr_lr, tpr_lr, label=f\"Logistic (AUC={auc_lr:.3f})\")\n",
    "plt.plot(fpr_nn, tpr_nn, label=f\"Neural Net (AUC={auc_nn:.3f})\")\n",
    "plt.plot([0,1],[0,1],'--', color=\"gray\")\n",
    "plt.xlabel(\"False Positive Rate\")\n",
    "plt.ylabel(\"True Positive Rate\")\n",
    "plt.title(\"ROC Curve Comparison\")\n",
    "plt.legend()\n",
    "plt.show()\n",
    "\n",
    "# Precision-Recall curves\n",
    "prec_lr, rec_lr, _ = precision_recall_curve(y_test, probs_lr)\n",
    "prec_nn, rec_nn, _ = precision_recall_curve(y_test, probs_nn)\n",
    "\n",
    "plt.figure(figsize=(6,5))\n",
    "plt.plot(rec_lr, prec_lr, label=f\"Logistic (PR-AUC={pr_lr:.3f})\")\n",
    "plt.plot(rec_nn, prec_nn, label=f\"Neural Net (PR-AUC={pr_nn:.3f})\")\n",
    "plt.xlabel(\"Recall\")\n",
    "plt.ylabel(\"Precision\")\n",
    "plt.title(\"Precision-Recall Curve Comparison\")\n",
    "plt.legend()\n",
    "plt.show()\n",
    "\n",
    "# Calibration (reliability) curve\n",
    "prob_true_lr, prob_pred_lr = calibration_curve(y_test, probs_lr, n_bins=12, strategy='quantile')\n",
    "prob_true_nn, prob_pred_nn = calibration_curve(y_test, probs_nn, n_bins=12, strategy='quantile')\n",
    "\n",
    "plt.figure(figsize=(6,5))\n",
    "plt.plot(prob_pred_lr, prob_true_lr, marker='o', label=f\"Logistic (Brier={brier_lr:.3f})\")\n",
    "plt.plot(prob_pred_nn, prob_true_nn, marker='o', label=f\"Neural Net (Brier={brier_nn:.3f})\")\n",
    "plt.plot([0,1],[0,1],'--')\n",
    "plt.xlabel(\"Predicted probability (bin mean)\")\n",
    "plt.ylabel(\"Observed frequency\")\n",
    "plt.title(\"Calibration\")\n",
    "plt.legend()\n",
    "plt.show()"
   ]
  },
  {
   "cell_type": "markdown",
   "metadata": {},
   "source": [
    "## Decision Making\n",
    "- **If baseline is close**: stick with logistic regression (simpler, transparent, easier to monitor).\n",
    "- **If neural net shows clear lift**: consider adopting, but demand **extra checks**:\n",
    "  - Calibration: are probabilities reliable?\n",
    "  - Fairness: does performance differ by device/country?\n",
    "  - Ops: can it run fast enough for homepage personalization?\n",
    "- **Always tie back to business metrics**: incremental conversions, ROI, and fairness guardrails.\n",
    "\n",
    "\n",
    "- The lesson: More complex is not always better. Leaders should weigh **performance vs. simplicity, interpretability, fairness, and operations**."
   ]
  }
 ],
 "metadata": {
  "kernelspec": {
   "display_name": ".venv",
   "language": "python",
   "name": "python3"
  },
  "language_info": {
   "codemirror_mode": {
    "name": "ipython",
    "version": 3
   },
   "file_extension": ".py",
   "mimetype": "text/x-python",
   "name": "python",
   "nbconvert_exporter": "python",
   "pygments_lexer": "ipython3",
   "version": "3.12.7"
  }
 },
 "nbformat": 4,
 "nbformat_minor": 2
}
