{
 "cells": [
  {
   "cell_type": "markdown",
   "id": "8b535e8b",
   "metadata": {},
   "source": [
    "# Transformers - RAG shape (High-Level)\n",
    "\n",
    "**Intent triage (classification) and policy summarization with grounding (placeholders)**\n",
    "\n",
    "RAG(Retrieval-Augmented Generation) is an AI architecture that enhances large language models (LLMs) by providing them with access to external, up-to-date knowledge bases, making their responses more accurate, current, and specific to a given context without requiring the model to be retrained."
   ]
  },
  {
   "cell_type": "code",
   "execution_count": null,
   "id": "95b797d8",
   "metadata": {},
   "outputs": [],
   "source": [
    "import os, json, math, random, time, textwrap\n",
    "from pathlib import Path\n",
    "import numpy as np\n",
    "import pandas as pd\n",
    "import matplotlib.pyplot as plt, warnings\n",
    "from sklearn.model_selection import train_test_split\n",
    "\n",
    "from sklearn.feature_extraction.text import TfidfVectorizer\n",
    "from sklearn.linear_model import LogisticRegression\n",
    "from sklearn.metrics import classification_report, confusion_matrix\n",
    "from sklearn.metrics.pairwise import cosine_similarity\n",
    "\n",
    "np.random.seed(42)\n",
    "random.seed(42)\n",
    "warnings.filterwarnings(\"ignore\")\n",
    "\n",
    "ART = Path(\"artifacts\"); ART.mkdir(exist_ok=True)\n",
    "print(\"Artifacts ->\", ART.resolve())"
   ]
  },
  {
   "cell_type": "markdown",
   "id": "709b76ee",
   "metadata": {},
   "source": [
    "## Lightweight intent triage with bag‑of‑words (encoder proxy)"
   ]
  },
  {
   "cell_type": "code",
   "execution_count": null,
   "id": "f52e3add",
   "metadata": {},
   "outputs": [],
   "source": [
    "# Synthetic labeled tickets\n",
    "texts = [\n",
    "    \"Where is my order? tracking shows no movement\",\n",
    "    \"Need to change my shipping address asap\",\n",
    "    \"The boots are defective and I want a refund\",\n",
    "    \"What does the warranty cover for the tent poles?\",\n",
    "    \"My package arrived late and box is damaged\",\n",
    "    \"Cancel my order please before it ships\",\n",
    "]\n",
    "labels = [\"Shipping\",\"Order Changes\",\"Returns\",\"Warranty\",\"Shipping\",\"Order Changes\"]\n",
    "more = [\"The seam ripped after one hike\", \"Exchange for a different size\", \"Return label please\", \"How long do returns take?\"]\n",
    "labels_more = [\"Returns\",\"Order Changes\",\"Returns\",\"Returns\"]\n",
    "texts = texts + more; labels = labels + labels_more\n",
    "\n",
    "vec = TfidfVectorizer(ngram_range=(1,2), min_df=1)\n",
    "X = vec.fit_transform(texts)\n",
    "y = np.array(labels)\n",
    "clf = LogisticRegression(max_iter=300).fit(X, y)\n",
    "\n",
    "test = [\"Need to exchange the boots due to size\", \"When will my package arrive?\", \"Does warranty include poles?\"]\n",
    "Xt = vec.transform(test); pred = clf.predict(Xt)\n",
    "for t,p in zip(test, pred): print(p, \"—\", t)\n",
    "print(classification_report(y, clf.predict(X)))\n",
    "cm = confusion_matrix(y, clf.predict(X), labels=sorted(set(y)))\n",
    "print(\"Confusion\\n\", cm)"
   ]
  },
  {
   "cell_type": "markdown",
   "id": "0a194408",
   "metadata": {},
   "source": [
    "## Grounded summarization placeholder (RAG shape w/o LLM)"
   ]
  },
  {
   "cell_type": "code",
   "execution_count": null,
   "id": "56c1507d",
   "metadata": {},
   "outputs": [],
   "source": [
    "# Simple retrieval over policy paragraphs using TF-IDF cosine\n",
    "policy_docs = [\n",
    "    (\"returns\", \"Customers may return items within 30 days of delivery. Items must be unworn and in original packaging. Refunds processed to the original method.\"),\n",
    "    (\"warranty\", \"Footwear is covered for manufacturing defects for 1 year. Normal wear and tear, mis-use, and modifications are excluded.\"),\n",
    "    (\"shipping\", \"Standard shipping delivers in 3-5 business days within the continental US. Tracking updates may be delayed by carriers.\")\n",
    "]\n",
    "corpus = [p for k,p in policy_docs]\n",
    "q = \"What is the warranty for boots?\"\n",
    "\n",
    "vec = TfidfVectorizer().fit(corpus + [q])\n",
    "C = vec.transform(corpus); Q = vec.transform([q])\n",
    "sims = cosine_similarity(Q, C).ravel()\n",
    "best_idx = int(np.argmax(sims)); best_doc = corpus[best_idx]\n",
    "print(\"Query:\", q); print(\"Top passage:\", best_doc)"
   ]
  }
 ],
 "metadata": {
  "kernelspec": {
   "display_name": ".venv (3.13.7)",
   "language": "python",
   "name": "python3"
  },
  "language_info": {
   "codemirror_mode": {
    "name": "ipython",
    "version": 3
   },
   "file_extension": ".py",
   "mimetype": "text/x-python",
   "name": "python",
   "nbconvert_exporter": "python",
   "pygments_lexer": "ipython3",
   "version": "3.13.7"
  }
 },
 "nbformat": 4,
 "nbformat_minor": 5
}
