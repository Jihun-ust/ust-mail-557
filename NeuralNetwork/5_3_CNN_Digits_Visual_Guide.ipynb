{
 "cells": [
  {
   "cell_type": "markdown",
   "id": "6fb3120b",
   "metadata": {},
   "source": [
    "\n",
    "# Convolutional Neural Network (CNN) — Visual Guide (Digits 8×8)\n",
    "\n",
    "This notebook trains a **small CNN** on the local `sklearn` **Digits** dataset (8×8 grayscale, 10 classes).\n",
    "It avoids any network downloads. If TensorFlow/Keras is unavailable, a clear message will appear with a one‑liner to install it.\n",
    "\n",
    "What you’ll see:\n",
    "- Data prep (train/val/test, normalization, one‑hot labels)\n",
    "- A **baseline CNN** (Conv → ReLU → Pool → Conv → ReLU → Flatten → Dense)\n",
    "- **Training curves** (loss/accuracy vs epochs)\n",
    "- **Confusion matrix** on test set\n",
    "- **Misclassified examples** (quick audit)\n",
    "- A simple **saliency** view (input gradients)\n",
    "- A small **hyperparameter sweep** (filters & dropout) for intuition\n",
    "\n",
    "> Tip: Digits are only 8×8; this is meant to be a lightweight CNN demo you can run anywhere.\n"
   ]
  },
  {
   "cell_type": "code",
   "execution_count": null,
   "id": "19bc7bac",
   "metadata": {},
   "outputs": [],
   "source": [
    "import numpy as np\n",
    "import matplotlib.pyplot as plt\n",
    "import pandas as pd\n",
    "\n",
    "from sklearn.datasets import load_digits\n",
    "from sklearn.model_selection import train_test_split\n",
    "from sklearn.metrics import classification_report, confusion_matrix, ConfusionMatrixDisplay\n",
    "\n",
    "# Try to import TensorFlow/Keras; if not available, we will skip training cells with guidance.\n",
    "try:\n",
    "    import tensorflow as tf\n",
    "    from tensorflow import keras\n",
    "    from tensorflow.keras import layers\n",
    "    TF_AVAILABLE = True\n",
    "    print(\"TensorFlow version:\", tf.__version__)\n",
    "except Exception as e:\n",
    "    TF_AVAILABLE = False\n",
    "    print(\"TensorFlow/Keras not available. To enable training here, run:\")\n",
    "    print(\"  pip install tensorflow-cpu  # or tensorflow\")\n",
    "    print(\"Cells that require TF will be skipped.\")\n",
    "\n",
    "# Load the 8x8 digits (no internet needed)\n",
    "digits = load_digits()\n",
    "X = digits.images  # shape (n, 8, 8)\n",
    "y = digits.target  # 0..9\n",
    "\n",
    "# Train/val/test split\n",
    "X_train, X_temp, y_train, y_temp = train_test_split(X, y, test_size=0.3, random_state=7, stratify=y)\n",
    "X_val, X_test,  y_val, y_test   = train_test_split(X_temp, y_temp, test_size=0.5, random_state=7, stratify=y_temp)\n",
    "\n",
    "# Normalize to [0,1] and add channel dim\n",
    "X_train = (X_train / 16.0).astype(\"float32\")[..., None]\n",
    "X_val   = (X_val   / 16.0).astype(\"float32\")[..., None]\n",
    "X_test  = (X_test  / 16.0).astype(\"float32\")[..., None]\n",
    "\n",
    "num_classes = 10\n",
    "y_train_cat = keras.utils.to_categorical(y_train, num_classes) if TF_AVAILABLE else None\n",
    "y_val_cat   = keras.utils.to_categorical(y_val,   num_classes) if TF_AVAILABLE else None\n",
    "y_test_cat  = keras.utils.to_categorical(y_test,  num_classes) if TF_AVAILABLE else None\n",
    "\n",
    "print(\"Shapes — train:\", X_train.shape, \"val:\", X_val.shape, \"test:\", X_test.shape)"
   ]
  },
  {
   "cell_type": "markdown",
   "id": "ba4af791",
   "metadata": {},
   "source": [
    "## Build a baseline CNN"
   ]
  },
  {
   "cell_type": "code",
   "execution_count": null,
   "id": "49022721",
   "metadata": {},
   "outputs": [],
   "source": [
    "def build_cnn(filters1=16, filters2=32, dropout=0.0, lr=1e-3):\n",
    "    if not TF_AVAILABLE:\n",
    "        return None\n",
    "    inputs = keras.Input(shape=(8,8,1))\n",
    "    x = layers.Conv2D(filters1, (3,3), padding=\"same\", activation=\"relu\")(inputs)\n",
    "    x = layers.MaxPooling2D((2,2))(x)\n",
    "    x = layers.Conv2D(filters2, (3,3), padding=\"same\", activation=\"relu\")(x)\n",
    "    x = layers.Flatten()(x)\n",
    "    if dropout > 0:\n",
    "        x = layers.Dropout(dropout)(x)\n",
    "    x = layers.Dense(64, activation=\"relu\")(x)\n",
    "    outputs = layers.Dense(num_classes, activation=\"softmax\")(x)\n",
    "    model = keras.Model(inputs, outputs)\n",
    "    model.compile(optimizer=keras.optimizers.Adam(learning_rate=lr),\n",
    "                  loss=\"categorical_crossentropy\",\n",
    "                  metrics=[\"accuracy\"])\n",
    "    return model\n",
    "\n",
    "if TF_AVAILABLE:\n",
    "    model = build_cnn()\n",
    "    model.summary()\n",
    "else:\n",
    "    print(\"Skipping model.summary() — TensorFlow not available.\")"
   ]
  },
  {
   "cell_type": "markdown",
   "id": "c33ba414",
   "metadata": {},
   "source": [
    "## Train (with early stopping)"
   ]
  },
  {
   "cell_type": "code",
   "execution_count": null,
   "id": "500995df",
   "metadata": {},
   "outputs": [],
   "source": [
    "if TF_AVAILABLE:\n",
    "    es = keras.callbacks.EarlyStopping(monitor=\"val_accuracy\", patience=8, restore_best_weights=True)\n",
    "    hist = model.fit(X_train, y_train_cat, validation_data=(X_val, y_val_cat),\n",
    "                     epochs=60, batch_size=64, verbose=0, callbacks=[es])\n",
    "    print(\"Best val acc:\", max(hist.history[\"val_accuracy\"]))\n",
    "else:\n",
    "    print(\"Skipping training — TensorFlow not available.\")"
   ]
  },
  {
   "cell_type": "markdown",
   "id": "41f2466b",
   "metadata": {},
   "source": [
    "## Training curves (loss / accuracy)"
   ]
  },
  {
   "cell_type": "code",
   "execution_count": null,
   "id": "2fb6783f",
   "metadata": {},
   "outputs": [],
   "source": [
    "if TF_AVAILABLE:\n",
    "    # Loss\n",
    "    plt.figure(figsize=(6,4))\n",
    "    plt.plot(hist.history[\"loss\"], label=\"train\")\n",
    "    plt.plot(hist.history[\"val_loss\"], label=\"val\")\n",
    "    plt.xlabel(\"epoch\"); plt.ylabel(\"loss\"); plt.title(\"CNN training loss\")\n",
    "    plt.legend(); plt.tight_layout(); plt.show()\n",
    "\n",
    "    # Accuracy\n",
    "    plt.figure(figsize=(6,4))\n",
    "    plt.plot(hist.history[\"accuracy\"], label=\"train\")\n",
    "    plt.plot(hist.history[\"val_accuracy\"], label=\"val\")\n",
    "    plt.xlabel(\"epoch\"); plt.ylabel(\"accuracy\"); plt.title(\"CNN training accuracy\")\n",
    "    plt.legend(); plt.tight_layout(); plt.show()\n",
    "else:\n",
    "    print(\"Skipping curves — TensorFlow not available.\")"
   ]
  },
  {
   "cell_type": "markdown",
   "id": "9133493a",
   "metadata": {},
   "source": [
    "## Evaluation — test metrics & confusion matrix"
   ]
  },
  {
   "cell_type": "code",
   "execution_count": null,
   "id": "8a581fde",
   "metadata": {},
   "outputs": [],
   "source": [
    "if TF_AVAILABLE:\n",
    "    test_probs = model.predict(X_test, verbose=0)\n",
    "    y_pred = test_probs.argmax(axis=1)\n",
    "    print(classification_report(y_test, y_pred, digits=3))\n",
    "    cm = confusion_matrix(y_test, y_pred)\n",
    "    disp = ConfusionMatrixDisplay(cm, display_labels=list(range(10)))\n",
    "    plt.figure(figsize=(6,5)); disp.plot(values_format=\"d\"); plt.title(\"Confusion Matrix (CNN)\"); plt.tight_layout(); plt.show()\n",
    "else:\n",
    "    print(\"Skipping evaluation — TensorFlow not available.\")"
   ]
  },
  {
   "cell_type": "markdown",
   "id": "bf1f5312",
   "metadata": {},
   "source": [
    "## Misclassified examples"
   ]
  },
  {
   "cell_type": "code",
   "execution_count": null,
   "id": "9c9c539a",
   "metadata": {},
   "outputs": [],
   "source": [
    "if TF_AVAILABLE:\n",
    "    wrong = np.where(y_pred != y_test)[0]\n",
    "    if len(wrong) == 0:\n",
    "        print(\"No misclassifications — nice!\")\n",
    "    else:\n",
    "        idxs = wrong[:16]\n",
    "        for i in idxs:\n",
    "            plt.figure(figsize=(2.2,2.2))\n",
    "            plt.imshow(X_test[i].squeeze(), cmap=\"gray\")\n",
    "            plt.title(f\"true={y_test[i]}, pred={y_pred[i]}\")\n",
    "            plt.axis(\"off\"); plt.tight_layout(); plt.show()\n",
    "else:\n",
    "    print(\"Skipping — TensorFlow not available.\")"
   ]
  },
  {
   "cell_type": "markdown",
   "id": "25a1d37b",
   "metadata": {},
   "source": [
    "## Saliency (input gradients wrt true class)"
   ]
  },
  {
   "cell_type": "code",
   "execution_count": null,
   "id": "631ff30b",
   "metadata": {},
   "outputs": [],
   "source": [
    "if TF_AVAILABLE:\n",
    "    # Pick a test sample\n",
    "    i = 0\n",
    "    x = tf.convert_to_tensor(X_test[i:i+1])  # shape (1,8,8,1)\n",
    "    y_true_cls = y_test[i]\n",
    "\n",
    "    with tf.GradientTape() as tape:\n",
    "        tape.watch(x)\n",
    "        probs = model(x, training=False)\n",
    "        loss = probs[:, y_true_cls]  # probability of the true class\n",
    "    grads = tape.gradient(loss, x).numpy()[0].squeeze()\n",
    "\n",
    "    # Normalize for display\n",
    "    g = np.abs(grads)\n",
    "    g = (g - g.min()) / (np.ptp(g) + 1e-9)\n",
    "\n",
    "    plt.figure(figsize=(5,4))\n",
    "    plt.imshow(g, cmap=\"viridis\"); plt.colorbar()\n",
    "    plt.title(f\"Saliency for sample {i} (true class {y_true_cls})\")\n",
    "    plt.axis(\"off\"); plt.tight_layout(); plt.show()\n",
    "else:\n",
    "    print(\"Skipping saliency — TensorFlow not available.\")"
   ]
  },
  {
   "cell_type": "markdown",
   "id": "9f9a7acc",
   "metadata": {},
   "source": [
    "## Tiny hyperparameter sweep (filters & dropout)"
   ]
  },
  {
   "cell_type": "code",
   "execution_count": null,
   "id": "a0b5d988",
   "metadata": {},
   "outputs": [],
   "source": [
    "if TF_AVAILABLE:\n",
    "    trials = [\n",
    "        {\"filters1\":8,  \"filters2\":16, \"dropout\":0.0},\n",
    "        {\"filters1\":16, \"filters2\":32, \"dropout\":0.0},\n",
    "        {\"filters1\":16, \"filters2\":32, \"dropout\":0.3},\n",
    "        {\"filters1\":32, \"filters2\":64, \"dropout\":0.3},\n",
    "    ]\n",
    "    results = []\n",
    "    for t in trials:\n",
    "        m = build_cnn(**t)\n",
    "        es = keras.callbacks.EarlyStopping(monitor=\"val_accuracy\", patience=6, restore_best_weights=True)\n",
    "        h = m.fit(X_train, y_train_cat, validation_data=(X_val, y_val_cat),\n",
    "                  epochs=40, batch_size=64, verbose=0, callbacks=[es])\n",
    "        te_probs = m.predict(X_test, verbose=0)\n",
    "        te_pred  = te_probs.argmax(axis=1)\n",
    "        acc = (te_pred == y_test).mean()\n",
    "        results.append({\"filters1\":t[\"filters1\"], \"filters2\":t[\"filters2\"], \"dropout\":t[\"dropout\"],\n",
    "                        \"val_best\": max(h.history[\"val_accuracy\"]), \"test_acc\": acc})\n",
    "        print(results[-1])\n",
    "    # Tabulate\n",
    "    df = pd.DataFrame(results)\n",
    "    print(df)\n",
    "else:\n",
    "    print(\"Skipping sweep — TensorFlow not available.\")"
   ]
  }
 ],
 "metadata": {
  "kernelspec": {
   "display_name": "ust-mail (3.13.7)",
   "language": "python",
   "name": "python3"
  },
  "language_info": {
   "codemirror_mode": {
    "name": "ipython",
    "version": 3
   },
   "file_extension": ".py",
   "mimetype": "text/x-python",
   "name": "python",
   "nbconvert_exporter": "python",
   "pygments_lexer": "ipython3",
   "version": "3.13.7"
  }
 },
 "nbformat": 4,
 "nbformat_minor": 5
}
