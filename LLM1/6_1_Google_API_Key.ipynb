{
 "cells": [
  {
   "cell_type": "markdown",
   "id": "ff97dd76",
   "metadata": {},
   "source": [
    "# Google API Key Test\n",
    "\n",
    "This notebook tests Google API key configuration on Colab notebook."
   ]
  },
  {
   "cell_type": "code",
   "execution_count": null,
   "id": "151d26fd",
   "metadata": {},
   "outputs": [],
   "source": [
    "from google.colab import userdata\n",
    "try:\n",
    "    _GEMINI_READY = bool(userdata.get('GOOGLE_API_KEY'))\n",
    "except Exception:\n",
    "    print(\"Install google-generativeai to enable live calls.\")\n",
    "    _GEMINI_READY = False\n",
    "\n",
    "if _GEMINI_READY:\n",
    "    print(\"Google Generative AI API is ready.\")\n",
    "else:\n",
    "    print(\"Google Generative AI API is not ready. Please set the GOOGLE_API_KEY in userdata.\")"
   ]
  }
 ],
 "metadata": {
  "kernelspec": {
   "display_name": ".venv (3.13.7)",
   "language": "python",
   "name": "python3"
  },
  "language_info": {
   "codemirror_mode": {
    "name": "ipython",
    "version": 3
   },
   "file_extension": ".py",
   "mimetype": "text/x-python",
   "name": "python",
   "nbconvert_exporter": "python",
   "pygments_lexer": "ipython3",
   "version": "3.13.7"
  }
 },
 "nbformat": 4,
 "nbformat_minor": 5
}
