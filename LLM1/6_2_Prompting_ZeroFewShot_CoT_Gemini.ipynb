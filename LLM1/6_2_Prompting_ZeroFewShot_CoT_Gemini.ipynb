{
 "cells": [
  {
   "cell_type": "markdown",
   "id": "ff97dd76",
   "metadata": {},
   "source": [
    "# Zero‑Shot, Few‑Shot, and CoT Prompting with Guardrails (Gemini API)\n",
    "\n",
    "This notebook demonstrates advanced prompting strategies for large language models (LLMs) using the Gemini API in a marketing analytics context. The workflow includes:\n",
    "\n",
    "- **Setup:** Connects to the Gemini API using a secure API key.\n",
    "- **Sample Data:** Generates synthetic marketing KPI data for multiple channels.\n",
    "- **Prompting Techniques:**\n",
    "  - **Zero‑Shot Prompting:** Asks the model to summarize weekly marketing performance using only provided context, with strict guardrails for knowledge boundaries and refusal if data is insufficient.\n",
    "  - **Few‑Shot Prompting:** Provides the model with example inputs and outputs (demos), including a red-flag case, to guide its summary generation for new data.\n",
    "  - **Chain‑of‑Thought (CoT) Prompting:** Instructs the model to reason internally step-by-step (without revealing its reasoning) before outputting a concise summary, encouraging more robust and nuanced analysis.\n",
    "- **Guardrails:** Enforces knowledge boundaries and refusal rules to ensure the model only uses provided data and responds appropriately to missing information.\n",
    "\n",
    "> Set your `GOOGLE_API_KEY` (from Google AI Studio) in `Secrets` tab."
   ]
  },
  {
   "cell_type": "code",
   "execution_count": null,
   "id": "151d26fd",
   "metadata": {},
   "outputs": [],
   "source": [
    "from google.colab import userdata\n",
    "try:\n",
    "    import google.generativeai as genai\n",
    "    genai.configure(api_key=userdata.get('GOOGLE_API_KEY'))\n",
    "    _GEMINI_READY = bool(userdata.get('GOOGLE_API_KEY'))\n",
    "except Exception:\n",
    "    print(\"Install google-generativeai to enable live calls.\")\n",
    "    _GEMINI_READY = False"
   ]
  },
  {
   "cell_type": "code",
   "execution_count": null,
   "id": "295d0478",
   "metadata": {},
   "outputs": [],
   "source": [
    "import json, textwrap, random\n",
    "import pandas as pd\n",
    "import numpy as np\n",
    "from typing import Any, Dict, Tuple, List, Optional\n",
    "\n",
    "MODEL_NAME = \"gemini-2.5-flash-lite\"\n",
    "\n",
    "def get_model(temperature: float = 0.3):\n",
    "    if not _GEMINI_READY:\n",
    "        return None\n",
    "    cfg = {\"temperature\": temperature}\n",
    "    return genai.GenerativeModel(MODEL_NAME, generation_config=cfg)"
   ]
  },
  {
   "cell_type": "markdown",
   "id": "22d718b5",
   "metadata": {},
   "source": [
    "\n",
    "## Sample KPI Data (Marketing Story)\n"
   ]
  },
  {
   "cell_type": "code",
   "execution_count": null,
   "id": "7d3da37d",
   "metadata": {},
   "outputs": [],
   "source": [
    "np.random.seed(1)\n",
    "channels = [\"Search\",\"Social\",\"Display\",\"Affiliate\",\"Email\"]\n",
    "kpi = pd.DataFrame({\n",
    "    \"channel\": channels,\n",
    "    \"impressions\": np.random.randint(1_000_000, 5_000_000, size=len(channels)),\n",
    "    \"clicks\": np.random.randint(20_000, 120_000, size=len(channels)),\n",
    "    \"spend_usd\": np.random.randint(10_000, 70_000, size=len(channels)),\n",
    "    \"conversions\": np.random.randint(300, 2_500, size=len(channels)),\n",
    "    \"adstock_index\": np.round(np.random.uniform(0.6, 1.3, size=len(channels)), 2),\n",
    "})\n",
    "kpi[\"ctr\"] = (kpi[\"clicks\"]/kpi[\"impressions\"]).round(4)\n",
    "kpi[\"cvr\"] = (kpi[\"conversions\"]/kpi[\"clicks\"]).round(4).clip(0,1)\n",
    "kpi[\"cpa\"] = (kpi[\"spend_usd\"]/kpi[\"conversions\"]).round(2)\n",
    "display(kpi)"
   ]
  },
  {
   "cell_type": "markdown",
   "id": "930eab0c",
   "metadata": {},
   "source": [
    "\n",
    "## Helpers\n"
   ]
  },
  {
   "cell_type": "code",
   "execution_count": null,
   "id": "68824e9b",
   "metadata": {},
   "outputs": [],
   "source": [
    "def kpi_to_xml(df: pd.DataFrame) -> str:\n",
    "    rows = []\n",
    "    for _,r in df.iterrows():\n",
    "        row = \"\".join([f\"<{c}>{r[c]}</{c}>\" for c in df.columns])\n",
    "        rows.append(f\"<row>{row}</row>\")\n",
    "    return \"<kpi>\\n\" + \"\\n\".join(rows) + \"\\n</kpi>\"\n",
    "\n",
    "def build_notes_xml(text: str) -> str:\n",
    "    return f\"<notes>\\n{text}\\n</notes>\"\n",
    "\n",
    "def default_sales_notes() -> str:\n",
    "    return (\"Retail steady; enterprise slower. Affiliate bundle launched; \"\n",
    "            \"email CTR strong but mobile checkout underperformed mid-week.\")"
   ]
  },
  {
   "cell_type": "markdown",
   "id": "9727cdcb",
   "metadata": {},
   "source": [
    "\n",
    "## Zero‑Shot Prompt\n"
   ]
  },
  {
   "cell_type": "code",
   "execution_count": null,
   "id": "c7b65676",
   "metadata": {},
   "outputs": [],
   "source": [
    "ZERO_SHOT_SYSTEM = textwrap.dedent(\"\"\"\n",
    "You are a marketing analytics assistant for weekly planning.\n",
    "Use only the provided context. If required data are missing, return an insufficient information error.\n",
    "\"\"\").strip()\n",
    "\n",
    "def zero_shot_prompt(kpi_xml: str, notes_xml: str) -> str:\n",
    "    return textwrap.dedent(f\"\"\"\n",
    "    ROLE: Marketing analytics assistant\n",
    "    INSTRUCTIONS: Summarize weekly performance in <=120 words (leadership-friendly).\n",
    "    KNOWLEDGE BOUNDARY: Use ONLY the context below.\n",
    "    If insufficient, output the refusal message (error, reason).\n",
    "\n",
    "    OUTPUT: Brief summary in a plain text.\n",
    "\n",
    "    CONTEXT START\n",
    "    {kpi_xml}\n",
    "    {notes_xml}\n",
    "    CONTEXT END\n",
    "    \"\"\").strip()\n",
    "\n",
    "def run_zero_shot(df: pd.DataFrame, sales_notes: Optional[str] = None, temperature: float = 0.2):\n",
    "    if not _GEMINI_READY:\n",
    "        print(\"Gemini not configured - showing prompt head:\")\n",
    "        print(zero_shot_prompt(kpi_to_xml(df), build_notes_xml(sales_notes or default_sales_notes()))[:1000])\n",
    "        return None\n",
    "    model = get_model(temperature=temperature)\n",
    "    prompt = zero_shot_prompt(kpi_to_xml(df), build_notes_xml(sales_notes or default_sales_notes()))\n",
    "    resp = model.generate_content([ZERO_SHOT_SYSTEM, prompt])\n",
    "    return resp.text\n",
    "\n",
    "zero_shot_output = run_zero_shot(kpi)\n",
    "print(zero_shot_output)"
   ]
  },
  {
   "cell_type": "markdown",
   "id": "34cfc15e",
   "metadata": {},
   "source": [
    "\n",
    "## Few‑Shot Prompt (with 2 Demos, incl. Red‑Flag Case)\n"
   ]
  },
  {
   "cell_type": "code",
   "execution_count": null,
   "id": "2e687406",
   "metadata": {},
   "outputs": [],
   "source": [
    "DEMO_1_INPUT = {\n",
    "  \"kpi\":[\n",
    "    {\"channel\":\"Search\",\"ctr\":0.028,\"cvr\":0.032,\"cpa\":65,\"adstock_index\":1.05},\n",
    "    {\"channel\":\"Social\",\"ctr\":0.035,\"cvr\":0.018,\"cpa\":130,\"adstock_index\":0.90}\n",
    "  ],\n",
    "  \"notes\":\"Mobile checkout bug fixed mid-week.\"\n",
    "}\n",
    "DEMO_1_OUTPUT = \"Search efficient; Social high clicks but weak conversion.\"\n",
    "\n",
    "DEMO_2_INPUT = {\n",
    "  \"kpi\":[\n",
    "    {\"channel\":\"Display\",\"ctr\":0.012,\"cvr\":0.026,\"cpa\":95,\"adstock_index\":1.10},\n",
    "    {\"channel\":\"Email\",\"ctr\":0.055,\"cvr\":0.041,\"cpa\":40,\"adstock_index\":0.80}\n",
    "  ],\n",
    "  \"notes\":\"Partner newsletter featuring bundles.\"\n",
    "}\n",
    "DEMO_2_OUTPUT = \"Email strong engagement and conversion; Display stable.\"\n",
    "\n",
    "def few_shot_prompt(kpi_xml: str, notes_xml: str) -> str:\n",
    "    demos = textwrap.dedent(f\"\"\"\n",
    "    DEMO 1 INPUT:\n",
    "    <kpi_demo>{json.dumps(DEMO_1_INPUT[\"kpi\"])}</kpi_demo>\n",
    "    <notes_demo>{DEMO_1_INPUT[\"notes\"]}</notes_demo>\n",
    "    DEMO 1 OUTPUT:\n",
    "    {DEMO_1_OUTPUT}\n",
    "\n",
    "    DEMO 2 INPUT:\n",
    "    <kpi_demo>{json.dumps(DEMO_2_INPUT[\"kpi\"])}</kpi_demo>\n",
    "    <notes_demo>{DEMO_2_INPUT[\"notes\"]}</notes_demo>\n",
    "    DEMO 2 OUTPUT:\n",
    "    {DEMO_2_OUTPUT}\n",
    "    \"\"\").strip()\n",
    "\n",
    "    return textwrap.dedent(f\"\"\"\n",
    "    ROLE: Marketing analytics assistant\n",
    "    INSTRUCTIONS: Use only provided context. If insufficient, return refusal.\n",
    "    OUTPUT: Brief summary in a plain text\n",
    "\n",
    "    {demos}\n",
    "\n",
    "    LIVE INPUT:\n",
    "    {kpi_xml}\n",
    "    {notes_xml}\n",
    "    \"\"\").strip()\n",
    "\n",
    "def run_few_shot(df: pd.DataFrame, sales_notes: Optional[str] = None, temperature: float = 0.2):\n",
    "    if not _GEMINI_READY:\n",
    "        print(\"Gemini not configured - showing prompt head:\")\n",
    "        print(few_shot_prompt(kpi_to_xml(df), build_notes_xml(sales_notes or default_sales_notes()))[:1000])\n",
    "        return None\n",
    "    model = get_model(temperature=temperature)\n",
    "    prompt = few_shot_prompt(kpi_to_xml(df), build_notes_xml(sales_notes or default_sales_notes()))\n",
    "    resp = model.generate_content(prompt)\n",
    "    return resp.text\n",
    "\n",
    "few_shot_output = run_few_shot(kpi)\n",
    "print(few_shot_output)"
   ]
  },
  {
   "cell_type": "markdown",
   "id": "d1b97269",
   "metadata": {},
   "source": [
    "\n",
    "## Chain‑of‑Thought (Internal) + Brief Rationale\n"
   ]
  },
  {
   "cell_type": "code",
   "execution_count": null,
   "id": "eaaae715",
   "metadata": {},
   "outputs": [],
   "source": [
    "COT_INTERNAL = \"\"\"\n",
    "Reason step-by-step internally. Do NOT reveal your chain of thought.\n",
    "Output only the brief summary with 1-3 bullets.\n",
    "\"\"\"\n",
    "\n",
    "def cot_prompt(kpi_xml: str, notes_xml: str) -> str:\n",
    "    return textwrap.dedent(f\"\"\"\n",
    "    ROLE: Senior marketing analyst\n",
    "    INSTRUCTIONS:\n",
    "    - {COT_INTERNAL.strip()}\n",
    "    - Sanity-check conflicting signals (e.g., CTR up but CVR down) before deciding.\n",
    "    OUTPUT: Brief summary in a plain text.\n",
    "\n",
    "    CONTEXT:\n",
    "    {kpi_xml}\n",
    "    {notes_xml}\n",
    "    \"\"\").strip()\n",
    "\n",
    "def run_cot(df: pd.DataFrame, sales_notes: Optional[str] = None, temperature: float = 0.3):\n",
    "    if not _GEMINI_READY:\n",
    "        print(\"Gemini not configured - showing prompt head:\")\n",
    "        print(cot_prompt(kpi_to_xml(df), build_notes_xml(sales_notes or default_sales_notes()))[:1000])\n",
    "        return None\n",
    "    model = get_model(temperature=temperature)\n",
    "    prompt = cot_prompt(kpi_to_xml(df), build_notes_xml(sales_notes or default_sales_notes()))\n",
    "    resp = model.generate_content(prompt)\n",
    "    return resp.text\n",
    "\n",
    "cot_output = run_cot(kpi)\n",
    "print(cot_output)"
   ]
  }
 ],
 "metadata": {
  "kernelspec": {
   "display_name": ".venv (3.13.7)",
   "language": "python",
   "name": "python3"
  },
  "language_info": {
   "codemirror_mode": {
    "name": "ipython",
    "version": 3
   },
   "file_extension": ".py",
   "mimetype": "text/x-python",
   "name": "python",
   "nbconvert_exporter": "python",
   "pygments_lexer": "ipython3",
   "version": "3.13.7"
  }
 },
 "nbformat": 4,
 "nbformat_minor": 5
}
