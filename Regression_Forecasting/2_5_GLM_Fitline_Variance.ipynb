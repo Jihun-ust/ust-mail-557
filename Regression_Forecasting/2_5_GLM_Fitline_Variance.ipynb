{
 "cells": [
  {
   "cell_type": "markdown",
   "id": "20a70c8b",
   "metadata": {},
   "source": [
    "\n",
    "# GLM vs. Linear Regression — Fit Line with Variance Area\n",
    "\n",
    "Shows how **Generalized Linear Models (GLMs)** differ from **ordinary linear regression** by visualizing:\n",
    "- the **fit line** (predicted mean) and\n",
    "- a **variance area (±2·SD)** on the **natural scale**.\n",
    "\n",
    "Use a synthetic count dataset where the *true data generating process* is Poisson with a log link.\n"
   ]
  },
  {
   "cell_type": "code",
   "execution_count": null,
   "id": "b2501153",
   "metadata": {},
   "outputs": [],
   "source": [
    "import numpy as np\n",
    "import pandas as pd\n",
    "import matplotlib.pyplot as plt\n",
    "from sklearn.linear_model import LinearRegression, PoissonRegressor, GammaRegressor\n",
    "from sklearn.metrics import mean_squared_error\n",
    "np.random.seed(42)"
   ]
  },
  {
   "cell_type": "markdown",
   "id": "b8c45431",
   "metadata": {},
   "source": [
    "\n",
    "## 1) Generate synthetic count data (Poisson, log link)\n",
    "\n",
    "Create a single predictor `x` and a Poisson outcome `y` with:\n",
    "\\[\n",
    "\\log(\\mu) = \\beta_0 + \\beta_1 x,\\qquad y \\sim \\text{Poisson}(\\mu).\n",
    "\\]\n",
    "\n",
    "This ensures the **mean grows exponentially** with `x` and the **variance equals the mean**.\n"
   ]
  },
  {
   "cell_type": "code",
   "execution_count": null,
   "id": "6af5da2c",
   "metadata": {},
   "outputs": [],
   "source": [
    "# Create data\n",
    "n = 400\n",
    "x = np.linspace(0, 10, n)\n",
    "beta0, beta1 = 0.6, 0.22   # true coefficients\n",
    "\n",
    "# Poisson true mean and outcome\n",
    "mu_true = np.exp(beta0 + beta1 * x)\n",
    "y = np.random.poisson(mu_true)\n",
    "\n",
    "# Gamma true mean (same mu_true, but different variance structure)\n",
    "# Var(Y) = phi * mu^2 ; choose phi > 0 (dispersion)\n",
    "phi = 0.5\n",
    "shape = 1.0 / phi                 # Gamma shape (k)\n",
    "scale = mu_true * phi             # Gamma scale = mu / shape\n",
    "y_gamma = np.random.gamma(shape, scale)\n",
    "\n",
    "# Put into a DataFrame\n",
    "df = pd.DataFrame({\n",
    "    \"x\": x,\n",
    "    \"y_pois\": y,\n",
    "    \"y_gamma\": y_gamma,\n",
    "    \"mu_true\": mu_true\n",
    "})\n",
    "\n",
    "df.head()"
   ]
  },
  {
   "cell_type": "markdown",
   "id": "1bd41543",
   "metadata": {},
   "source": [
    "\n",
    "## 2) Fit models\n",
    "- **Linear Regression (OLS)** on counts (treats variance as constant, can predict negatives).\n",
    "- **Poisson GLM** with log link (ensures non‑negative mean and variance = mean).\n"
   ]
  },
  {
   "cell_type": "code",
   "execution_count": null,
   "id": "e2e08995",
   "metadata": {},
   "outputs": [],
   "source": [
    "# Fit OLS\n",
    "X = x.reshape(-1, 1)\n",
    "ols = LinearRegression().fit(X, y)\n",
    "yhat_ols = ols.predict(X)\n",
    "\n",
    "# Fit Poisson GLM\n",
    "pois = PoissonRegressor(alpha=0.0, max_iter=5000).fit(X, y)\n",
    "yhat_pois = pois.predict(X)\n",
    "\n",
    "# Fit Gamma GLM\n",
    "gamma = GammaRegressor(alpha=0.0, max_iter=5000).fit(X, y_gamma)\n",
    "yhat_gamma = gamma.predict(X)\n",
    "\n",
    "print(\"OLS   RMSE:\", (mean_squared_error(y, yhat_ols)**0.5))\n",
    "print(\"Poiss RMSE:\", (mean_squared_error(y, yhat_pois)**0.5))\n",
    "print(\"Gamma RMSE:\", (mean_squared_error(y, yhat_gamma)**0.5))"
   ]
  },
  {
   "cell_type": "markdown",
   "id": "6c107d20",
   "metadata": {},
   "source": [
    "\n",
    "## 3) Variance areas (±2·SD) on the natural scale\n",
    "\n",
    "- **OLS (Linear Regression)** assumes **constant variance**: estimate \\(\\sigma^2\\) from residuals and draw a **constant-width** band around the fitted line.\n",
    "- **Poisson GLM** assumes \\(\\mathrm{Var}(Y)=\\mu\\): the **band widens** as the mean increases (using \\(\\pm 2\\sqrt{\\mu}\\)).\n"
   ]
  },
  {
   "cell_type": "code",
   "execution_count": null,
   "id": "ccff2a8c",
   "metadata": {},
   "outputs": [],
   "source": [
    "# OLS band (constant)\n",
    "resid_ols = y - yhat_ols\n",
    "sigma_ols = np.std(resid_ols, ddof=1)\n",
    "ols_upper = yhat_ols + 2*sigma_ols\n",
    "ols_lower = yhat_ols - 2*sigma_ols\n",
    "\n",
    "# Poisson band (variance = mean)\n",
    "sd_pois = np.sqrt(np.maximum(yhat_pois, 1e-12))\n",
    "pois_upper = yhat_pois + 2*sd_pois\n",
    "pois_lower = np.maximum(0.0, yhat_pois - 2*sd_pois)  # counts can't go below 0\n",
    "\n",
    "# Gamma band (variance = phi * mu^2)\n",
    "# Estimate dispersion phi via Pearson chi-square / df\n",
    "est_g = gamma               # GammaRegressor\n",
    "p_params = est_g.coef_.size + 1                # +1 for intercept\n",
    "df = max(len(y_gamma) - p_params, 1)\n",
    "\n",
    "mu_g = np.asarray(yhat_gamma, dtype=float)         # predicted mean on natural scale\n",
    "phi_hat = float(np.sum((y_gamma - mu_g)**2 / np.maximum(mu_g**2, 1e-12)) / df)\n",
    "\n",
    "# ±2·SD band on natural scale (clip at 0 since costs are >= 0)\n",
    "sd_g = np.sqrt(phi_hat) * mu_g                 # SD = sqrt(phi * mu^2) = sqrt(phi) * mu\n",
    "gamma_upper = mu_g + 2 * sd_g\n",
    "gamma_lower = np.maximum(0.0, mu_g - 2 * sd_g)"
   ]
  },
  {
   "cell_type": "markdown",
   "id": "fe2f973c",
   "metadata": {},
   "source": [
    "\n",
    "## 4) Visualization A — Poisson GLM: Fit line with variance area\n",
    "- The shaded region **expands** as `x` increases because \\(\\mathrm{Var}(Y)\\) grows with \\(\\mu\\).\n",
    "- This matches the **count data reality** (higher means → higher dispersion).\n"
   ]
  },
  {
   "cell_type": "code",
   "execution_count": null,
   "id": "4fc79a5e",
   "metadata": {},
   "outputs": [],
   "source": [
    "# Scatter and Poisson GLM band\n",
    "plt.figure(figsize=(8,5))\n",
    "plt.scatter(x, y, alpha=0.35, label=\"Observed counts\")\n",
    "plt.plot(x, yhat_pois, linewidth=2, label=\"Poisson GLM (mean)\")\n",
    "plt.fill_between(x, pois_lower, pois_upper, alpha=0.2, label=\"±2·SD (Poisson)\")\n",
    "plt.xlabel(\"x\")\n",
    "plt.ylabel(\"y (counts)\")\n",
    "plt.title(\"Poisson GLM — Fit line with variance area\")\n",
    "plt.legend()\n",
    "plt.tight_layout()\n",
    "\n",
    "# Quick plot vs an x-axis (e.g., sorted by predicted mean)\n",
    "order = np.argsort(mu_g)\n",
    "x_axis = np.arange(len(mu_g))[order]\n",
    "plt.figure(figsize=(8,5))\n",
    "plt.plot(x_axis, mu_g[order], label=\"Gamma (mean μ)\", linewidth=2)\n",
    "plt.fill_between(x_axis, gamma_lower[order], gamma_upper[order], alpha=0.2, label=\"Gamma band (±2·SD)\")\n",
    "plt.scatter(x_axis, np.asarray(y_gamma)[order], s=14, alpha=0.25, label=\"Observed\")\n",
    "plt.xlabel(\"samples (sorted by μ)\"); plt.ylabel(\"cost (natural scale)\")\n",
    "plt.title(\"Gamma GLM — Fit line with variance area\")\n",
    "plt.legend(); plt.tight_layout(); plt.show()\n",
    "plt.show()"
   ]
  },
  {
   "cell_type": "markdown",
   "id": "d718e34c",
   "metadata": {},
   "source": [
    "\n",
    "## 5) Visualization B — OLS: Fit line with constant variance area\n",
    "- The shaded region is **constant width** because OLS assumes **homoscedasticity** (constant variance).\n",
    "- Notice how the band **understates variability** at high means and **overstates it** at low means.\n"
   ]
  },
  {
   "cell_type": "code",
   "execution_count": null,
   "id": "6328e986",
   "metadata": {},
   "outputs": [],
   "source": [
    "# Scatter and OLS band\n",
    "plt.figure(figsize=(8,5))\n",
    "plt.scatter(x, y, alpha=0.35, label=\"Observed counts\")\n",
    "plt.plot(x, yhat_ols, linewidth=2, label=\"OLS (mean)\")\n",
    "plt.fill_between(x, ols_lower, ols_upper, alpha=0.2, label=\"±2·SD (OLS)\")\n",
    "plt.xlabel(\"x\")\n",
    "plt.ylabel(\"y (counts)\")\n",
    "plt.title(\"OLS — Fit line with constant variance area\")\n",
    "plt.legend()\n",
    "plt.tight_layout()\n",
    "plt.show()"
   ]
  },
  {
   "cell_type": "markdown",
   "id": "a8b20413",
   "metadata": {},
   "source": [
    "\n",
    "## 6) Visualization C — Overlay of mean fits (no bands)\n",
    "- Compare the **mean predictions** directly:\n",
    "  - OLS line can cross negative territory (not shown here) and grows linearly.\n",
    "  - Poisson GLM grows **exponentially** (log link) and stays non‑negative.\n"
   ]
  },
  {
   "cell_type": "code",
   "execution_count": null,
   "id": "efc1aea6",
   "metadata": {},
   "outputs": [],
   "source": [
    "plt.figure(figsize=(8,5))\n",
    "plt.scatter(x, y, alpha=0.2, label=\"Observed counts\")\n",
    "plt.plot(x, yhat_ols, linewidth=2, label=\"OLS (mean)\")\n",
    "plt.plot(x, yhat_pois, linewidth=2, label=\"Poisson GLM (mean)\")\n",
    "plt.xlabel(\"x\")\n",
    "plt.ylabel(\"y (counts)\")\n",
    "plt.title(\"Mean fits — OLS vs Poisson GLM (no bands)\")\n",
    "plt.legend()\n",
    "plt.tight_layout()\n",
    "plt.show()"
   ]
  },
  {
   "cell_type": "markdown",
   "id": "b0d42e3d",
   "metadata": {},
   "source": [
    "\n",
    "## 7) What to tell a stakeholder\n",
    "\n",
    "- **Why GLM?** For counts, **variance rises with the mean**; GLMs (Poisson) model that explicitly. Linear regression assumes constant variance and can mislead confidence.  \n",
    "- **Visual cue:** The **Poisson band widens** as the mean rises — this matches how count processes behave (e.g., more traffic → more variability).  \n",
    "- **Risk:** OLS can suggest **negative counts** or **flat uncertainty** where it shouldn’t.  \n",
    "- **Action:** Use GLM families that match the outcome type (Poisson for counts, Gamma for positive skewed costs, Logistic for probabilities).\n"
   ]
  }
 ],
 "metadata": {
  "kernelspec": {
   "display_name": ".venv",
   "language": "python",
   "name": "python3"
  },
  "language_info": {
   "codemirror_mode": {
    "name": "ipython",
    "version": 3
   },
   "file_extension": ".py",
   "mimetype": "text/x-python",
   "name": "python",
   "nbconvert_exporter": "python",
   "pygments_lexer": "ipython3",
   "version": "3.12.7"
  }
 },
 "nbformat": 4,
 "nbformat_minor": 5
}
