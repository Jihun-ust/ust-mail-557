{
 "cells": [
  {
   "cell_type": "markdown",
   "id": "098bf002",
   "metadata": {},
   "source": [
    "# Regularization (Ridge, Lasso, Elastic Net)\n",
    "\n",
    "We extend the baseline to handle multicollinearity and improve generalization.\n",
    "We'll compare Ridge, Lasso, and Elastic Net using time-aware cross-validation."
   ]
  },
  {
   "cell_type": "code",
   "execution_count": null,
   "id": "138e20cf",
   "metadata": {},
   "outputs": [],
   "source": [
    "import pandas as pd, numpy as np, matplotlib.pyplot as plt, warnings\n",
    "from sklearn.linear_model import RidgeCV, LassoCV, ElasticNetCV, LinearRegression\n",
    "from sklearn.compose import ColumnTransformer\n",
    "from sklearn.preprocessing import OneHotEncoder, StandardScaler\n",
    "from sklearn.pipeline import Pipeline\n",
    "from sklearn.model_selection import TimeSeriesSplit\n",
    "!wget -q https://raw.githubusercontent.com/Jihun-ust/ust-mail-557/main/Regression_Forecasting/reg_for_utils.py\n",
    "import reg_for_utils as utils\n",
    "csv_path = \"https://raw.githubusercontent.com/Jihun-ust/ust-mail-557/main/Regression_Forecasting/marketing_daily.csv\"\n",
    "warnings.filterwarnings(\"ignore\")\n",
    "df = pd.read_csv(csv_path, parse_dates=[\"date\"]).sort_values(\"date\")\n",
    "\n",
    "features = [\"search_spend\",\"social_spend\",\"display_spend\",\"promo\",\"price_index\",\"temp_F\",\"rain\",\"is_weekend\"]\n",
    "target = \"revenue\"\n",
    "train, test = utils.time_train_test_split(df, \"date\", test_days=90)\n",
    "X_train, y_train = train[features], train[target]\n",
    "X_test, y_test = test[features], test[target]\n",
    "\n",
    "numeric = [\"search_spend\",\"social_spend\",\"display_spend\",\"price_index\",\"temp_F\"]\n",
    "categorical = [\"promo\",\"rain\",\"is_weekend\"]\n",
    "pre = ColumnTransformer([(\"num\", StandardScaler(), numeric), (\"cat\", OneHotEncoder(drop=\"if_binary\"), categorical)])\n",
    "\n",
    "tscv = TimeSeriesSplit(n_splits=5)"
   ]
  },
  {
   "cell_type": "markdown",
   "id": "b376bb43",
   "metadata": {},
   "source": [
    "## Fit Ridge, Lasso, Elastic Net with CV"
   ]
  },
  {
   "cell_type": "code",
   "execution_count": null,
   "id": "82e2eb35",
   "metadata": {},
   "outputs": [],
   "source": [
    "alphas = np.logspace(-3, 3, 30)\n",
    "\n",
    "pipe = Pipeline([(\"pre\", pre), (\"lr\", LinearRegression())])\n",
    "ridge = Pipeline([(\"pre\", pre), (\"est\", RidgeCV(alphas=alphas, cv=tscv))])\n",
    "lasso = Pipeline([(\"pre\", pre), (\"est\", LassoCV(alphas=alphas, cv=tscv, max_iter=20000, n_jobs=None))])\n",
    "enet  = Pipeline([(\"pre\", pre), (\"est\", ElasticNetCV(alphas=alphas, l1_ratio=[.2,.5,.8,.95,1.0], cv=tscv, max_iter=20000))])\n",
    "\n",
    "pipe.fit(X_train, y_train)\n",
    "ridge.fit(X_train, y_train)\n",
    "lasso.fit(X_train, y_train)\n",
    "enet.fit(X_train, y_train)"
   ]
  },
  {
   "cell_type": "code",
   "execution_count": null,
   "id": "51c4b8af",
   "metadata": {},
   "outputs": [],
   "source": [
    "# Linear Regression w/o Regularization\n",
    "y_pred = pipe.predict(X_test)\n",
    "utils.plot_series(test[\"date\"], y_test, y_pred, title=\"Linear Regression w/o Regularization — actual vs. predicted\")\n",
    "\n",
    "# Ridge\n",
    "y_pred_ridge = ridge.predict(X_test)\n",
    "utils.plot_series(test[\"date\"], y_test, y_pred_ridge, title=\"Ridge — actual vs. predicted\")\n",
    "\n",
    "# Lasso\n",
    "y_pred_lasso = lasso.predict(X_test)\n",
    "utils.plot_series(test[\"date\"], y_test, y_pred_lasso, title=\"Lasso — actual vs. predicted\")\n",
    "\n",
    "# Elastic Net\n",
    "y_pred_enet = enet.predict(X_test)\n",
    "utils.plot_series(test[\"date\"], y_test, y_pred_enet, title=\"Elastic Net — actual vs. predicted\")"
   ]
  },
  {
   "cell_type": "markdown",
   "id": "7baf5f46",
   "metadata": {},
   "source": [
    "## Compare sparsity & coefficients"
   ]
  },
  {
   "cell_type": "code",
   "execution_count": null,
   "id": "dd177cc9",
   "metadata": {},
   "outputs": [],
   "source": [
    "def coef_table(pipe):\n",
    "    names = pipe.named_steps[\"pre\"].get_feature_names_out()\n",
    "    coefs = pipe.named_steps[\"est\"].coef_\n",
    "    return pd.DataFrame({\"feature\": names, \"coef\": coefs}).sort_values(\"coef\", key=abs, ascending=False)\n",
    "\n",
    "coef_ridge = coef_table(ridge); coef_lasso = coef_table(lasso); coef_enet = coef_table(enet)\n",
    "print('BeforeRegularization', \"RMSE:\", utils.rmse(y_test, y_pred), \"MAE:\", utils.mae(y_test, y_pred))\n",
    "print('Ridge', \"RMSE:\", utils.rmse(y_test, y_pred_ridge), \"MAE:\", utils.mae(y_test, y_pred_ridge))\n",
    "print('Lasso', \"RMSE:\", utils.rmse(y_test, y_pred_lasso), \"MAE:\", utils.mae(y_test, y_pred_lasso))\n",
    "print('ElNet', \"RMSE:\", utils.rmse(y_test, y_pred_enet), \"MAE:\", utils.mae(y_test, y_pred_enet))\n",
    "\n",
    "coeffs = pd.concat([coef_ridge, coef_lasso['coef'], coef_enet['coef']], axis=1)\n",
    "new_column_names = ['feature', 'ridge_coef', 'lasso_coef', 'enet_coef']\n",
    "coeffs.columns = new_column_names\n",
    "coeffs.head(10)"
   ]
  }
 ],
 "metadata": {
  "kernelspec": {
   "display_name": ".venv",
   "language": "python",
   "name": "python3"
  },
  "language_info": {
   "codemirror_mode": {
    "name": "ipython",
    "version": 3
   },
   "file_extension": ".py",
   "mimetype": "text/x-python",
   "name": "python",
   "nbconvert_exporter": "python",
   "pygments_lexer": "ipython3",
   "version": "3.12.7"
  }
 },
 "nbformat": 4,
 "nbformat_minor": 5
}
