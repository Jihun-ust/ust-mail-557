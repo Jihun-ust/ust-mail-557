{
 "cells": [
  {
   "cell_type": "markdown",
   "id": "580209e7",
   "metadata": {},
   "source": [
    "# Feature Expansion & Splines (Polynomial bases)\n",
    "\n",
    "Capture curvature using polynomial features and, where available, splines on temperature."
   ]
  },
  {
   "cell_type": "code",
   "execution_count": null,
   "id": "a52c2ad7",
   "metadata": {},
   "outputs": [],
   "source": [
    "import pandas as pd, numpy as np, matplotlib.pyplot as plt\n",
    "from sklearn.preprocessing import PolynomialFeatures, StandardScaler, OneHotEncoder\n",
    "from sklearn.compose import ColumnTransformer\n",
    "from sklearn.pipeline import Pipeline\n",
    "from sklearn.linear_model import LinearRegression, RidgeCV\n",
    "from sklearn.model_selection import TimeSeriesSplit\n",
    "\n",
    "!wget -q https://raw.githubusercontent.com/Jihun-ust/ust-mail-557/main/Regression_Forecasting/reg_for_utils.py\n",
    "import reg_for_utils as utils\n",
    "csv_path = \"https://raw.githubusercontent.com/Jihun-ust/ust-mail-557/main/Regression_Forecasting/marketing_daily.csv\"\n",
    "\n",
    "df = pd.read_csv(csv_path, parse_dates=[\"date\"]).sort_values(\"date\")\n",
    "train, test = utils.time_train_test_split(df, \"date\", test_days=90)\n",
    "\n",
    "features_base = [\"search_spend\",\"social_spend\",\"display_spend\",\"promo\",\"price_index\",\"temp_F\",\"rain\",\"is_weekend\"]\n",
    "target = \"revenue\"\n",
    "X_train, y_train = train[features_base], train[target]\n",
    "X_test, y_test = test[features_base], test[target]\n",
    "\n",
    "try:\n",
    "    from sklearn.preprocessing import SplineTransformer\n",
    "    spline_ok = True\n",
    "except Exception:\n",
    "    spline_ok = False\n",
    "\n",
    "numeric_poly = [\"search_spend\",\"social_spend\",\"display_spend\",\"price_index\"]\n",
    "cat = [\"promo\",\"rain\",\"is_weekend\"]\n",
    "\n",
    "pre_poly = ColumnTransformer([\n",
    "    (\"num\", Pipeline([(\"sc\", StandardScaler()), (\"poly\", PolynomialFeatures(degree=2, include_bias=False))]), numeric_poly),\n",
    "    (\"temp\", \"passthrough\", [\"temp_F\"]),\n",
    "    (\"cat\", OneHotEncoder(drop=\"if_binary\"), cat)\n",
    "])\n",
    "\n",
    "if spline_ok:\n",
    "    pre_spline = ColumnTransformer([\n",
    "        (\"num\", StandardScaler(), [\"search_spend\",\"social_spend\",\"display_spend\",\"price_index\"]),\n",
    "        (\"temp_spline\", SplineTransformer(n_knots=6, degree=3), [\"temp_F\"]),\n",
    "        (\"cat\", OneHotEncoder(drop=\"if_binary\"), cat)\n",
    "    ])\n",
    "\n",
    "tscv = TimeSeriesSplit(n_splits=5)\n",
    "\n",
    "poly_model = Pipeline([(\"pre\", pre_poly), (\"est\", RidgeCV(alphas=np.logspace(-3,3,20), cv=tscv))])\n",
    "poly_model.fit(X_train, y_train)\n",
    "rmse_poly = utils.rmse(y_test, poly_model.predict(X_test))\n",
    "\n",
    "if spline_ok:\n",
    "    spline_model = Pipeline([(\"pre\", pre_spline), (\"est\", RidgeCV(alphas=np.logspace(-3,3,20), cv=tscv))])\n",
    "    spline_model.fit(X_train, y_train)\n",
    "    rmse_spline = utils.rmse(y_test, spline_model.predict(X_test))\n",
    "    print(\"RMSE (poly):\", rmse_poly, \" | RMSE (splines):\", rmse_spline)\n",
    "else:\n",
    "    print(\"RMSE (poly):\", rmse_poly, \" | SplineTransformer not available in this environment.\")"
   ]
  },
  {
   "cell_type": "markdown",
   "id": "27e99ce4",
   "metadata": {},
   "source": [
    "## Partial dependence-style visualization (one variable at a time)\n",
    "Hold others near their median to see curvature."
   ]
  },
  {
   "cell_type": "code",
   "execution_count": null,
   "id": "6d11afbb",
   "metadata": {},
   "outputs": [],
   "source": [
    "for selected_feature in numeric_poly:\n",
    "    grid = np.linspace(df[selected_feature].quantile(0.01), df[selected_feature].quantile(0.99), 60)\n",
    "    x0 = X_train.median(numeric_only=True).to_dict()\n",
    "    rows = []\n",
    "    for g in grid:\n",
    "        row = x0.copy()\n",
    "        row[selected_feature] = g\n",
    "        row[\"promo\"] = 0\n",
    "        row[\"rain\"] = 0\n",
    "        row[\"is_weekend\"] = 0\n",
    "        rows.append(row)\n",
    "    Xg = pd.DataFrame(rows)\n",
    "    yg = poly_model.predict(Xg)\n",
    "    \n",
    "    plt.figure(figsize=(5,5))\n",
    "    plt.scatter(X_train[selected_feature], y_train, s=3)\n",
    "    plt.plot(grid, yg, c='r')\n",
    "    plt.title(selected_feature + \" vs. predicted revenue\"); plt.xlabel(selected_feature); plt.ylabel(\"pred revenue\")\n",
    "    plt.tight_layout(); plt.show()"
   ]
  }
 ],
 "metadata": {
  "kernelspec": {
   "display_name": ".venv",
   "language": "python",
   "name": "python3"
  },
  "language_info": {
   "codemirror_mode": {
    "name": "ipython",
    "version": 3
   },
   "file_extension": ".py",
   "mimetype": "text/x-python",
   "name": "python",
   "nbconvert_exporter": "python",
   "pygments_lexer": "ipython3",
   "version": "3.12.7"
  }
 },
 "nbformat": 4,
 "nbformat_minor": 5
}
