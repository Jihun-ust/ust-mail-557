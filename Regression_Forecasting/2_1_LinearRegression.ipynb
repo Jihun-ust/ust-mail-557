{
 "cells": [
  {
   "cell_type": "markdown",
   "id": "29b376c6",
   "metadata": {},
   "source": [
    "# Linear Regression\n",
    "\n",
    "**Scenario (Marketing)**: Predict daily revenue from ad spend, promotions, price index, weather, and weekend effects for a digital storefront.\n",
    "We will fit a baseline linear regression, evaluate with time-based split, and visualize predictions."
   ]
  },
  {
   "cell_type": "code",
   "execution_count": null,
   "id": "a048da59",
   "metadata": {},
   "outputs": [],
   "source": [
    "# Setup\n",
    "import pandas as pd, numpy as np\n",
    "from sklearn.linear_model import LinearRegression\n",
    "from sklearn.compose import ColumnTransformer\n",
    "from sklearn.preprocessing import OneHotEncoder, StandardScaler\n",
    "from sklearn.pipeline import Pipeline\n",
    "from sklearn.metrics import mean_absolute_error, mean_squared_error\n",
    "import matplotlib.pyplot as plt\n",
    "!wget -q https://raw.githubusercontent.com/Jihun-ust/ust-mail-557/main/Regression_Forecasting/reg_for_utils.py\n",
    "import reg_for_utils as utils\n",
    "csv_path = \"https://raw.githubusercontent.com/Jihun-ust/ust-mail-557/main/Regression_Forecasting/marketing_daily.csv\"\n",
    "\n",
    "df = pd.read_csv(csv_path, parse_dates=[\"date\"]).sort_values(\"date\")\n",
    "df.head()"
   ]
  },
  {
   "cell_type": "markdown",
   "id": "1b88839b",
   "metadata": {},
   "source": [
    "## Train/Test split (time-aware)\n",
    "We'll reserve the final 90 days as a test set to simulate forward-looking evaluation."
   ]
  },
  {
   "cell_type": "code",
   "execution_count": null,
   "id": "79650911",
   "metadata": {},
   "outputs": [],
   "source": [
    "train, test = utils.time_train_test_split(df, \"date\", test_days=90)\n",
    "features = [\"search_spend\",\"social_spend\",\"display_spend\",\"promo\",\"price_index\",\"temp_F\",\"rain\",\"is_weekend\"]\n",
    "target = \"revenue\"\n",
    "\n",
    "X_train, y_train = train[features], train[target]\n",
    "X_test, y_test = test[features], test[target]\n",
    "\n",
    "numeric = [\"search_spend\",\"social_spend\",\"display_spend\",\"price_index\",\"temp_F\"]\n",
    "categorical = [\"promo\",\"rain\",\"is_weekend\"]\n",
    "\n",
    "pre = ColumnTransformer([\n",
    "    (\"num\", StandardScaler(), numeric),\n",
    "    (\"cat\", OneHotEncoder(drop=\"if_binary\"), categorical)\n",
    "])\n",
    "\n",
    "pipe = Pipeline([(\"pre\", pre), (\"lr\", LinearRegression())])\n",
    "pipe.fit(X_train, y_train)"
   ]
  },
  {
   "cell_type": "markdown",
   "id": "e91b8ce6",
   "metadata": {},
   "source": [
    "## Evaluation"
   ]
  },
  {
   "cell_type": "code",
   "execution_count": null,
   "id": "89123787",
   "metadata": {},
   "outputs": [],
   "source": [
    "y_pred = pipe.predict(X_test)\n",
    "print(\"RMSE:\", utils.rmse(y_test, y_pred))\n",
    "print(\"MAE :\", utils.mae(y_test, y_pred))\n",
    "print(\"R^2 :\", utils.r2(y_test, y_pred))\n",
    "\n",
    "utils.plot_series(test[\"date\"], y_test, y_pred, title=\"Revenue — actual vs. predicted (test)\")"
   ]
  },
  {
   "cell_type": "markdown",
   "id": "6ea15e06",
   "metadata": {},
   "source": [
    "## Inspect coefficients (plain-language sense check)\n",
    "Note: scaled coefficients reflect relative influence after standardization."
   ]
  },
  {
   "cell_type": "code",
   "execution_count": null,
   "id": "6ef1c9a2",
   "metadata": {},
   "outputs": [],
   "source": [
    "lr = pipe.named_steps[\"lr\"]\n",
    "coefs = lr.coef_\n",
    "feat_names = list(pipe.named_steps[\"pre\"].get_feature_names_out())\n",
    "coef_df = pd.DataFrame({\"feature\": feat_names, \"coef\": coefs}).sort_values(\"coef\", key=abs, ascending=False)\n",
    "coef_df.head(10)"
   ]
  }
 ],
 "metadata": {
  "kernelspec": {
   "display_name": ".venv",
   "language": "python",
   "name": "python3"
  },
  "language_info": {
   "codemirror_mode": {
    "name": "ipython",
    "version": 3
   },
   "file_extension": ".py",
   "mimetype": "text/x-python",
   "name": "python",
   "nbconvert_exporter": "python",
   "pygments_lexer": "ipython3",
   "version": "3.12.7"
  }
 },
 "nbformat": 4,
 "nbformat_minor": 5
}
