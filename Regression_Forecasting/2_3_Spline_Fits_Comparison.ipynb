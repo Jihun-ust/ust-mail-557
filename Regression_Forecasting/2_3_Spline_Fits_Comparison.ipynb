{
 "cells": [
  {
   "cell_type": "markdown",
   "id": "75e0f983",
   "metadata": {},
   "source": [
    "# Spline Regression: Compare Knot Counts vs Linear Baseline\n",
    "Comparison of **spline-based regression** using scikit-learn’s `SplineTransformer`\n",
    "against a linear baseline, on a noisy nonlinear dataset with a few outliers."
   ]
  },
  {
   "cell_type": "code",
   "execution_count": null,
   "id": "d379361f",
   "metadata": {},
   "outputs": [],
   "source": [
    "import numpy as np\n",
    "import pandas as pd\n",
    "import matplotlib.pyplot as plt\n",
    "\n",
    "from sklearn.model_selection import train_test_split\n",
    "from sklearn.preprocessing import SplineTransformer\n",
    "from sklearn.pipeline import Pipeline\n",
    "from sklearn.linear_model import LinearRegression\n",
    "from sklearn.metrics import mean_squared_error, r2_score\n",
    "\n",
    "plt.rcParams['figure.figsize'] = (8, 5)\n",
    "plt.rcParams['axes.grid'] = True\n",
    "plt.rcParams['grid.alpha'] = 0.3\n",
    "plt.rcParams['figure.dpi'] = 140\n",
    "plt.rcParams['font.size'] = 12"
   ]
  },
  {
   "cell_type": "code",
   "execution_count": null,
   "id": "73399345",
   "metadata": {},
   "outputs": [],
   "source": [
    "rng = np.random.default_rng(42)\n",
    "\n",
    "n = 120\n",
    "x = rng.uniform(-3.0, 3.0, size=n)\n",
    "\n",
    "def true_fn(t):\n",
    "    return 0.6*t**3 - 1.0*t**2 + 2.2*t + 1.0\n",
    "\n",
    "noise = rng.normal(0, 4.5, size=n)\n",
    "y = true_fn(x) + noise\n",
    "\n",
    "n_outliers = max(4, n // 25)\n",
    "idx_out = rng.choice(np.arange(n), size=n_outliers, replace=False)\n",
    "y[idx_out] += rng.normal(0, 10.0, size=n_outliers)\n",
    "\n",
    "X = x.reshape(-1, 1)\n",
    "X_train, X_test, y_train, y_test = train_test_split(X, y, test_size=0.33, random_state=7)\n",
    "\n",
    "print(f\"Samples: {n}   Train: {len(X_train)}   Test: {len(X_test)}   Outliers: {n_outliers}\")"
   ]
  },
  {
   "cell_type": "code",
   "execution_count": null,
   "id": "89172ac9",
   "metadata": {},
   "outputs": [],
   "source": [
    "plt.figure()\n",
    "plt.scatter(X_train[:, 0], y_train, s=16, alpha=0.8, label='train points')\n",
    "plt.title('Training Data')\n",
    "plt.xlabel('x')\n",
    "plt.ylabel('y')\n",
    "plt.legend()\n",
    "plt.tight_layout()\n",
    "plt.show()"
   ]
  },
  {
   "cell_type": "code",
   "execution_count": null,
   "id": "e773130e",
   "metadata": {},
   "outputs": [],
   "source": [
    "lin_model = LinearRegression()\n",
    "lin_model.fit(X_train, y_train)\n",
    "yhat_tr_lin = lin_model.predict(X_train)\n",
    "yhat_te_lin = lin_model.predict(X_test)\n",
    "\n",
    "lin_metrics = {\n",
    "    'config': 'Linear (degree 1)',\n",
    "    'train_RMSE': mean_squared_error(y_train, yhat_tr_lin),\n",
    "    'test_RMSE': mean_squared_error(y_test, yhat_te_lin),\n",
    "    'train_R2': r2_score(y_train, yhat_tr_lin),\n",
    "    'test_R2': r2_score(y_test, yhat_te_lin)\n",
    "}\n",
    "lin_metrics"
   ]
  },
  {
   "cell_type": "code",
   "execution_count": null,
   "id": "26ea1f26",
   "metadata": {},
   "outputs": [],
   "source": [
    "def fit_spline(n_knots, degree, X_train, y_train, X_test, y_test):\n",
    "    pipe = Pipeline([\n",
    "        ('spline', SplineTransformer(n_knots=n_knots, degree=degree, include_bias=False, extrapolation='continue')),\n",
    "        ('lin', LinearRegression())\n",
    "    ])\n",
    "    pipe.fit(X_train, y_train)\n",
    "    yhat_tr = pipe.predict(X_train)\n",
    "    yhat_te = pipe.predict(X_test)\n",
    "    return {\n",
    "        'config': f'Spline k={n_knots}, deg={degree}',\n",
    "        'n_knots': n_knots,\n",
    "        'degree': degree,\n",
    "        'train_RMSE': mean_squared_error(y_train, yhat_tr),\n",
    "        'test_RMSE': mean_squared_error(y_test, yhat_te),\n",
    "        'train_R2': r2_score(y_train, yhat_tr),\n",
    "        'test_R2': r2_score(y_test, yhat_te),\n",
    "        'model': pipe\n",
    "    }\n",
    "\n",
    "configs = [(2,3), (5,3), (8,3), (15,3)]\n",
    "results = [lin_metrics.copy()]\n",
    "models = {'Linear (degree 1)': lin_model}\n",
    "\n",
    "for (k, d) in configs:\n",
    "    m = fit_spline(k, d, X_train, y_train, X_test, y_test)\n",
    "    results.append({k2:v for k2,v in m.items() if k2 != 'model'})\n",
    "    models[m['config']] = m['model']\n",
    "\n",
    "df = pd.DataFrame(results)\n",
    "df_display = df[['config', 'train_RMSE', 'test_RMSE', 'train_R2', 'test_R2']]\n",
    "df_display"
   ]
  },
  {
   "cell_type": "code",
   "execution_count": null,
   "id": "711cb24a",
   "metadata": {},
   "outputs": [],
   "source": [
    "x_grid = np.linspace(X.min(), X.max(), 400).reshape(-1, 1)\n",
    "\n",
    "plt.figure()\n",
    "plt.scatter(X_train[:,0], y_train, s=12, alpha=0.6, label='train points')\n",
    "\n",
    "order = ['Linear (degree 1)'] + [f'Spline k={k}, deg=3' for k,_ in configs]\n",
    "for name in order:\n",
    "    y_grid = models[name].predict(x_grid)\n",
    "    r2 = df_display.loc[df_display['config']==name, 'test_R2'].iloc[0]\n",
    "    plt.plot(x_grid[:,0], y_grid, linewidth=2, label=f'{name} (test R²={r2:.3f})')\n",
    "\n",
    "plt.title('Spline vs Linear: Fitted Curves')\n",
    "plt.xlabel('x')\n",
    "plt.ylabel('y')\n",
    "plt.legend()\n",
    "plt.tight_layout()\n",
    "plt.show()"
   ]
  },
  {
   "cell_type": "code",
   "execution_count": null,
   "id": "acba900f",
   "metadata": {},
   "outputs": [],
   "source": [
    "for name, model in models.items():\n",
    "    yhat_te = model.predict(X_test)\n",
    "    residuals = y_test - yhat_te\n",
    "    plt.figure()\n",
    "    plt.scatter(X_test[:,0], residuals, s=16, alpha=0.8, label=f'{name} residuals')\n",
    "    plt.axhline(0, linestyle='--', linewidth=1)\n",
    "    plt.title(f'Residuals vs x — {name}')\n",
    "    plt.xlabel('x')\n",
    "    plt.ylabel('test residual')\n",
    "    plt.legend()\n",
    "    plt.tight_layout()\n",
    "    plt.show()"
   ]
  }
 ],
 "metadata": {
  "kernelspec": {
   "display_name": ".venv",
   "language": "python",
   "name": "python3"
  },
  "language_info": {
   "codemirror_mode": {
    "name": "ipython",
    "version": 3
   },
   "file_extension": ".py",
   "mimetype": "text/x-python",
   "name": "python",
   "nbconvert_exporter": "python",
   "pygments_lexer": "ipython3",
   "version": "3.12.7"
  }
 },
 "nbformat": 4,
 "nbformat_minor": 5
}
