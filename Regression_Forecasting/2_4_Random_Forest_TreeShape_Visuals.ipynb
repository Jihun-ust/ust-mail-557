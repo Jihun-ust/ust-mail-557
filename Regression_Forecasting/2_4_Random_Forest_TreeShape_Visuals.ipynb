{
 "cells": [
  {
   "cell_type": "markdown",
   "id": "b65396bf",
   "metadata": {},
   "source": [
    "# Random Forest — Visualizing Tree Shape & Structure\n",
    "This notebook gives **practical visuals** to understand the shape and behavior of Random Forests:\n",
    "1) **Single-tree diagram** (truncated)  \n",
    "2) **Depth distribution across trees**  \n",
    "3) **Feature usage frequency**  \n",
    "4) **1D prediction curve (step-like)**  \n",
    "5) **2D prediction surface (heatmap)**  \n",
    "6) **Decision path for one sample (1D tree)**  \n",
    "7) **Per-tree leaf prediction distribution**  "
   ]
  },
  {
   "cell_type": "code",
   "execution_count": null,
   "id": "d3c64a73",
   "metadata": {},
   "outputs": [],
   "source": [
    "import numpy as np\n",
    "import pandas as pd\n",
    "import matplotlib.pyplot as plt\n",
    "\n",
    "from sklearn.ensemble import RandomForestRegressor\n",
    "from sklearn.tree import plot_tree\n",
    "from sklearn.model_selection import train_test_split\n",
    "\n",
    "# Clean, modern-ish defaults\n",
    "plt.rcParams['figure.figsize'] = (8, 5)\n",
    "plt.rcParams['axes.grid'] = True\n",
    "plt.rcParams['grid.alpha'] = 0.3\n",
    "plt.rcParams['figure.dpi'] = 140\n",
    "plt.rcParams['font.size'] = 12\n"
   ]
  },
  {
   "cell_type": "markdown",
   "id": "3ac151c1",
   "metadata": {},
   "source": [
    "## 1) Datasets\n",
    "- **1D**: Nonlinear target for step-like RF prediction and decision path.\n",
    "- **2D**: Nonlinear surface for heatmap and feature-usage analysis.\n"
   ]
  },
  {
   "cell_type": "code",
   "execution_count": null,
   "id": "b5312435",
   "metadata": {},
   "outputs": [],
   "source": [
    "rng = np.random.default_rng(42)\n",
    "\n",
    "# 1D data\n",
    "n1 = 200\n",
    "x1 = rng.uniform(-3.5, 3.5, size=n1)\n",
    "def f1(t):\n",
    "    return 0.6*t**3 - 1.0*t**2 + 2.2*t + 1.0\n",
    "y1 = f1(x1) + rng.normal(0, 2.8, size=n1)\n",
    "# add outliers\n",
    "idx_out1 = rng.choice(np.arange(n1), size=max(6, n1//30), replace=False)\n",
    "y1[idx_out1] += rng.normal(0, 12.0, size=idx_out1.size)\n",
    "X1 = x1.reshape(-1,1)\n",
    "X1_tr, X1_te, y1_tr, y1_te = train_test_split(X1, y1, test_size=0.3, random_state=7)\n",
    "\n",
    "print(f\"1D: n={n1}, train={len(X1_tr)}, test={len(X1_te)}; outliers={idx_out1.size}\")\n",
    "\n",
    "# 2D data\n",
    "n2 = 500\n",
    "x = rng.uniform(-3.0, 3.0, size=n2)\n",
    "y = rng.uniform(-3.0, 3.0, size=n2)\n",
    "def f2(a,b):\n",
    "    # Smooth nonlinear surface\n",
    "    return 2.5*np.sin(a) + 1.8*np.cos(1.3*b) + 0.5*a*b\n",
    "z = f2(x,y) + rng.normal(0, 1.2, size=n2)\n",
    "X2 = np.c_[x,y]\n",
    "X2_tr, X2_te, z_tr, z_te = train_test_split(X2, z, test_size=0.3, random_state=7)\n",
    "\n",
    "print(f\"2D: n={n2}, train={len(X2_tr)}, test={len(X2_te)}\")"
   ]
  },
  {
   "cell_type": "markdown",
   "id": "3e127735",
   "metadata": {},
   "source": [
    "## 2) Train Random Forest Models"
   ]
  },
  {
   "cell_type": "code",
   "execution_count": null,
   "id": "616126ad",
   "metadata": {},
   "outputs": [],
   "source": [
    "rf1d = RandomForestRegressor(n_estimators=200, max_depth=None, random_state=42)\n",
    "rf1d.fit(X1_tr, y1_tr)\n",
    "\n",
    "rf2d = RandomForestRegressor(n_estimators=200, max_depth=None, random_state=42)\n",
    "rf2d.fit(X2_tr, z_tr)\n",
    "\n",
    "print(\"Trained rf1d and rf2d.\")"
   ]
  },
  {
   "cell_type": "markdown",
   "id": "69de1fd5",
   "metadata": {},
   "source": [
    "## 3) Single Tree Diagram (Truncated)\n",
    "Visualize one tree (depth-limited) to see split structure and thresholds.\n"
   ]
  },
  {
   "cell_type": "code",
   "execution_count": null,
   "id": "a5aa4be7",
   "metadata": {},
   "outputs": [],
   "source": [
    "plt.figure(figsize=(12,6))\n",
    "plot_tree(rf1d.estimators_[0], filled=True, max_depth=3, fontsize=8)\n",
    "plt.title('One Tree from rf1d (max_depth=3 view)')\n",
    "plt.tight_layout()\n",
    "plt.show()"
   ]
  },
  {
   "cell_type": "markdown",
   "id": "2975b4d3",
   "metadata": {},
   "source": [
    "## 4) Depth Distribution Across Trees\n",
    "How deep do trees grow in the forest?\n"
   ]
  },
  {
   "cell_type": "code",
   "execution_count": null,
   "id": "5c0e5ae1",
   "metadata": {},
   "outputs": [],
   "source": [
    "depths = [est.tree_.max_depth for est in rf1d.estimators_]\n",
    "plt.figure()\n",
    "plt.hist(depths, bins=15)\n",
    "plt.title('Histogram of Tree Depths (rf1d)')\n",
    "plt.xlabel('max_depth')\n",
    "plt.ylabel('count')\n",
    "plt.tight_layout()\n",
    "plt.show()\n",
    "\n",
    "print(f\"Mean depth: {np.mean(depths):.2f}, Min: {np.min(depths)}, Max: {np.max(depths)}\")"
   ]
  },
  {
   "cell_type": "markdown",
   "id": "94a1b819",
   "metadata": {},
   "source": [
    "## 5) Feature Usage Frequency (2D)\n",
    "Count how often each feature appears in splits across all trees (rf2d)."
   ]
  },
  {
   "cell_type": "code",
   "execution_count": null,
   "id": "b71765b5",
   "metadata": {},
   "outputs": [],
   "source": [
    "n_features = X2.shape[1]\n",
    "counts = np.zeros(n_features, dtype=int)\n",
    "\n",
    "for est in rf2d.estimators_:\n",
    "    feats = est.tree_.feature\n",
    "    # Count only real splits (feature index >= 0)\n",
    "    for f in feats:\n",
    "        if f >= 0:\n",
    "            counts[f] += 1\n",
    "\n",
    "plt.figure()\n",
    "plt.bar(range(n_features), counts)\n",
    "plt.xticks(range(n_features), [f'feature_{i}' for i in range(n_features)])\n",
    "plt.title('Split Usage Frequency per Feature (rf2d)')\n",
    "plt.xlabel('feature index')\n",
    "plt.ylabel('split count')\n",
    "plt.tight_layout()\n",
    "plt.show()\n",
    "\n",
    "counts"
   ]
  },
  {
   "cell_type": "markdown",
   "id": "686242fd",
   "metadata": {},
   "source": [
    "## 6) 1D Prediction Curve (Step-like)\n",
    "Random Forest in 1D yields a piecewise-constant/step-like prediction. Overlay with training points.\n"
   ]
  },
  {
   "cell_type": "code",
   "execution_count": null,
   "id": "399c210e",
   "metadata": {},
   "outputs": [],
   "source": [
    "x_grid = np.linspace(X1.min(), X1.max(), 600).reshape(-1,1)\n",
    "y_grid = rf1d.predict(x_grid)\n",
    "\n",
    "plt.figure()\n",
    "plt.scatter(X1_tr[:,0], y1_tr, s=14, alpha=0.7, label='train points')\n",
    "plt.plot(x_grid[:,0], y_grid, linewidth=2, label='RF (1D) prediction')\n",
    "plt.title('RF (1D) Step-like Prediction')\n",
    "plt.xlabel('x')\n",
    "plt.ylabel('prediction')\n",
    "plt.legend()\n",
    "plt.tight_layout()\n",
    "plt.show()"
   ]
  },
  {
   "cell_type": "markdown",
   "id": "6bb1970d",
   "metadata": {},
   "source": [
    "## 7) 2D Prediction Surface (Heatmap)\n",
    "Visualize how the forest partitions 2D space by plotting predicted values on a grid.\n"
   ]
  },
  {
   "cell_type": "code",
   "execution_count": null,
   "id": "fbed54d0",
   "metadata": {},
   "outputs": [],
   "source": [
    "g = 120  # grid resolution\n",
    "gx = np.linspace(X2[:,0].min(), X2[:,0].max(), g)\n",
    "gy = np.linspace(X2[:,1].min(), X2[:,1].max(), g)\n",
    "GX, GY = np.meshgrid(gx, gy)\n",
    "G = np.c_[GX.ravel(), GY.ravel()]\n",
    "Z = rf2d.predict(G).reshape(GX.shape)\n",
    "\n",
    "plt.figure(figsize=(7,6))\n",
    "plt.imshow(Z, origin='lower', extent=[gx.min(), gx.max(), gy.min(), gy.max()], aspect='auto')\n",
    "plt.scatter(X2_tr[:,0], X2_tr[:,1], s=8, alpha=0.4, label='train pts')\n",
    "plt.title('RF (2D) Prediction Surface')\n",
    "plt.xlabel('x0')\n",
    "plt.ylabel('x1')\n",
    "plt.legend()\n",
    "plt.tight_layout()\n",
    "plt.show()"
   ]
  },
  {
   "cell_type": "markdown",
   "id": "9c4c5de4",
   "metadata": {},
   "source": [
    "## 8) Decision Path for One Sample (1D)\n",
    "Trace which thresholds a given sample crosses in a **single tree** of the 1D forest.\n"
   ]
  },
  {
   "cell_type": "code",
   "execution_count": null,
   "id": "c5e61dff",
   "metadata": {},
   "outputs": [],
   "source": [
    "sample_x = np.array([[0.8]])  # pick a point\n",
    "tree = rf1d.estimators_[1]\n",
    "node_indicator = tree.decision_path(sample_x)\n",
    "leaf_id = tree.apply(sample_x)[0]\n",
    "\n",
    "# Extract the node indices on path\n",
    "node_index = node_indicator.indices[node_indicator.indptr[0]: node_indicator.indptr[1]]\n",
    "\n",
    "# Gather thresholds used along the path\n",
    "thresholds = []\n",
    "for nid in node_index:\n",
    "    feat = tree.tree_.feature[nid]\n",
    "    thr = tree.tree_.threshold[nid]\n",
    "    if feat >= 0:  # skip leaf (=-2)\n",
    "        thresholds.append(thr)\n",
    "\n",
    "print(\"Path node ids:\", node_index)\n",
    "print(\"Thresholds along path:\", thresholds)\n",
    "print(\"Predicted value at leaf:\", tree.predict(sample_x)[0])\n",
    "\n",
    "# Visualize thresholds on x-axis\n",
    "xs = np.linspace(X1.min(), X1.max(), 400)\n",
    "plt.figure()\n",
    "plt.scatter(X1_tr[:,0], y1_tr, s=10, alpha=0.5, label='train')\n",
    "for thr in thresholds:\n",
    "    plt.axvline(thr, linestyle='--', linewidth=1)\n",
    "plt.axvline(sample_x[0,0], linestyle='-', linewidth=2, label='sample x')\n",
    "plt.title('Decision Thresholds Along Path (One Tree, 1D)')\n",
    "plt.xlabel('x')\n",
    "plt.ylabel('y (scatter shown for context)')\n",
    "plt.legend()\n",
    "plt.tight_layout()\n",
    "plt.show()"
   ]
  },
  {
   "cell_type": "markdown",
   "id": "844c1bd2",
   "metadata": {},
   "source": [
    "## 9) Per-tree Leaf Prediction Distribution (1D)\n",
    "For the same sample \\(x = 0.8\\), collect each tree's **leaf prediction** and plot a histogram.  \n",
    "This shows how diverse individual trees are **before averaging**.\n"
   ]
  },
  {
   "cell_type": "code",
   "execution_count": null,
   "id": "2615fb82",
   "metadata": {},
   "outputs": [],
   "source": [
    "sample_x = np.array([[0.8]])\n",
    "leaf_preds = np.array([est.predict(sample_x)[0] for est in rf1d.estimators_])\n",
    "\n",
    "plt.figure()\n",
    "plt.hist(leaf_preds, bins=20)\n",
    "plt.title('Per-tree Leaf Predictions for x=0.8 (rf1d)')\n",
    "plt.xlabel('leaf prediction')\n",
    "plt.ylabel('count')\n",
    "plt.tight_layout()\n",
    "plt.show()\n",
    "\n",
    "print(f\"Mean per-tree prediction: {leaf_preds.mean():.3f}; RF ensemble prediction: {rf1d.predict(sample_x)[0]:.3f}\")"
   ]
  }
 ],
 "metadata": {
  "kernelspec": {
   "display_name": ".venv",
   "language": "python",
   "name": "python3"
  },
  "language_info": {
   "codemirror_mode": {
    "name": "ipython",
    "version": 3
   },
   "file_extension": ".py",
   "mimetype": "text/x-python",
   "name": "python",
   "nbconvert_exporter": "python",
   "pygments_lexer": "ipython3",
   "version": "3.12.7"
  }
 },
 "nbformat": 4,
 "nbformat_minor": 5
}
