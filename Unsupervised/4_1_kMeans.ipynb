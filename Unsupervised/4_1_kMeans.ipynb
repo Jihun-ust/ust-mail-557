{
 "cells": [
  {
   "cell_type": "markdown",
   "id": "bd8946b3",
   "metadata": {},
   "source": [
    "# k-Means\n",
    "\n",
    "**Scenario (Property Ops)**: Cluster incoming documents to auto-route (leases, invoices, inspection reports, maintenance tickets). Start with k-means++ and choose k using inertia and silhouette. Then profile clusters against business features (pages, OCR, tables)."
   ]
  },
  {
   "cell_type": "code",
   "execution_count": null,
   "id": "f1ac076d",
   "metadata": {},
   "outputs": [],
   "source": [
    "import pandas as pd, numpy as np, matplotlib.pyplot as plt, warnings\n",
    "from sklearn.cluster import KMeans\n",
    "from sklearn.metrics import silhouette_score\n",
    "\n",
    "!wget -q https://raw.githubusercontent.com/Jihun-ust/ust-mail-557/main/Unsupervised/unsup_utils.py.py\n",
    "import unsup_utils as utils\n",
    "csv_path = \"https://raw.githubusercontent.com/Jihun-ust/ust-mail-557/main/Unsupervised/unsup.csv\"\n",
    "warnings.filterwarnings(\"ignore\")\n",
    "\n",
    "df = pd.read_csv(csv_path)\n",
    "X, cols, sc = utils.feature_matrix(df, use_emb=True)\n",
    "\n",
    "# Try different k and collect scores\n",
    "inertias, sils, ks = [], [], list(range(2,9))\n",
    "for k in ks:\n",
    "    km = KMeans(n_clusters=k, init=\"k-means++\", n_init=10, random_state=42)\n",
    "    labels = km.fit_predict(X)\n",
    "    inertias.append(km.inertia_)\n",
    "    sils.append(silhouette_score(X, labels))\n",
    "\n",
    "plt.figure(figsize=(8,3.8)); plt.plot(ks, inertias, marker=\"o\"); plt.title(\"Elbow (Inertia)\"); plt.xlabel(\"k\"); plt.ylabel(\"inertia\"); plt.tight_layout(); plt.show()\n",
    "plt.figure(figsize=(8,3.8)); plt.plot(ks, sils, marker=\"o\"); plt.title(\"Silhouette\"); plt.xlabel(\"k\"); plt.ylabel(\"score\"); plt.tight_layout(); plt.show()\n",
    "\n",
    "best_k = ks[int(np.argmax(sils))]\n",
    "print(\"Chosen k by silhouette:\", best_k)\n",
    "\n",
    "# Fit final\n",
    "km = KMeans(n_clusters=best_k, init=\"k-means++\", n_init=20, random_state=42)\n",
    "df[\"cluster_km\"] = km.fit_predict(X)\n",
    "\n",
    "# PCA for visualization\n",
    "X2, p = utils.pca_2d(X)\n",
    "utils.plot_xy(X2, title=\"PCA (colored by k-means clusters)\", labels=df[\"cluster_km\"].values)\n",
    "\n",
    "# Cluster profiling\n",
    "prof = df.groupby(\"cluster_km\")[[\"page_count\",\"ocr_conf\",\"image_pct\",\"table_density\",\"token_count_k\",\"amount_usd\",\"signatures\",\"layout_complexity\"]].mean().round(2)\n",
    "prof.head()"
   ]
  },
  {
   "cell_type": "markdown",
   "id": "1e79b0ca",
   "metadata": {},
   "source": [
    "### Compare to known doc types (for quick review)\n",
    "Cross-tab clusters with the known `doc_type` to see if clusters align with business categories."
   ]
  },
  {
   "cell_type": "code",
   "execution_count": null,
   "id": "9402a590",
   "metadata": {},
   "outputs": [],
   "source": [
    "pd.crosstab(df[\"cluster_km\"], df[\"doc_type\"])"
   ]
  }
 ],
 "metadata": {
  "kernelspec": {
   "display_name": ".venv",
   "language": "python",
   "name": "python3"
  },
  "language_info": {
   "codemirror_mode": {
    "name": "ipython",
    "version": 3
   },
   "file_extension": ".py",
   "mimetype": "text/x-python",
   "name": "python",
   "nbconvert_exporter": "python",
   "pygments_lexer": "ipython3",
   "version": "3.12.7"
  }
 },
 "nbformat": 4,
 "nbformat_minor": 5
}
