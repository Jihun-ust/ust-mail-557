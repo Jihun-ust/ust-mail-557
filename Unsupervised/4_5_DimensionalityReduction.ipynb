{
 "cells": [
  {
   "cell_type": "markdown",
   "id": "96b405da",
   "metadata": {},
   "source": [
    "# Dimensionality Reduction — PCA/t-SNE/UMAP\n",
    "\n",
    "Reduce dimensions for visualization and pre-processing. Compare 2D PCA vs t-SNE/UMAP views and report PCA variance explained."
   ]
  },
  {
   "cell_type": "code",
   "execution_count": null,
   "id": "1bbf0858",
   "metadata": {},
   "outputs": [],
   "source": [
    "import pandas as pd, numpy as np, matplotlib.pyplot as plt, warnings\n",
    "\n",
    "!wget -q https://raw.githubusercontent.com/Jihun-ust/ust-mail-557/main/Unsupervised/unsup_utils.py\n",
    "import unsup_utils as utils\n",
    "csv_path = \"https://raw.githubusercontent.com/Jihun-ust/ust-mail-557/main/Unsupervised/unsup.csv\"\n",
    "warnings.filterwarnings(\"ignore\")\n",
    "\n",
    "df = pd.read_csv(csv_path)\n",
    "X, cols, sc = utils.feature_matrix(df, use_emb=True)\n",
    "\n",
    "# PCA variance explained\n",
    "from sklearn.decomposition import PCA\n",
    "p = PCA(n_components=10, random_state=42).fit(X)\n",
    "print(\"PCA explained variance ratio (first 10):\", np.round(p.explained_variance_ratio_, 4))\n",
    "X2 = p.transform(X)[:,:2]\n",
    "utils.plot_xy(X2, title=\"PCA 2D — colored by doc_type\", labels=pd.Categorical(df[\"doc_type\"]).codes)\n",
    "\n",
    "# t-SNE (subset for speed)\n",
    "Xts = utils.tsne_2d(X, n=2000)\n",
    "utils.plot_xy(Xts, title=\"t-SNE 2D — colored by doc_type\", labels=pd.Categorical(df[\"doc_type\"].iloc[:len(Xts)]).codes)\n",
    "\n",
    "# UMAP (if available)\n",
    "Xu, name = utils.try_umap_2d(X, n=2000)\n",
    "if Xu is not None:\n",
    "    utils.plot_xy(Xu, title=\"UMAP 2D — colored by doc_type\", labels=pd.Categorical(df['doc_type'].iloc[:len(Xu)]).codes)\n",
    "else:\n",
    "    print(\"umap-learn not available; skipping UMAP.\")"
   ]
  }
 ],
 "metadata": {
  "kernelspec": {
   "display_name": ".venv",
   "language": "python",
   "name": "python3"
  },
  "language_info": {
   "codemirror_mode": {
    "name": "ipython",
    "version": 3
   },
   "file_extension": ".py",
   "mimetype": "text/x-python",
   "name": "python",
   "nbconvert_exporter": "python",
   "pygments_lexer": "ipython3",
   "version": "3.12.7"
  }
 },
 "nbformat": 4,
 "nbformat_minor": 5
}
